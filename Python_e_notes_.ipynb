{
  "nbformat": 4,
  "nbformat_minor": 0,
  "metadata": {
    "colab": {
      "provenance": [],
      "authorship_tag": "ABX9TyNwlD+PiZstVzEG7+viV5t2",
      "include_colab_link": true
    },
    "kernelspec": {
      "name": "python3",
      "display_name": "Python 3"
    },
    "language_info": {
      "name": "python"
    }
  },
  "cells": [
    {
      "cell_type": "markdown",
      "metadata": {
        "id": "view-in-github",
        "colab_type": "text"
      },
      "source": [
        "<a href=\"https://colab.research.google.com/github/nallagatlanagarakeshreddy/python_notes/blob/main/Python_e_notes_.ipynb\" target=\"_parent\"><img src=\"https://colab.research.google.com/assets/colab-badge.svg\" alt=\"Open In Colab\"/></a>"
      ]
    },
    {
      "cell_type": "code",
      "source": [
        "#What is python?\n",
        "#1.High level language(Human friendly language)\n",
        "#2.object oriented programming (object)\n",
        "#3.general purpose programming\n",
        "#4.dynamically typed"
      ],
      "metadata": {
        "id": "JAstf0tJWkum"
      },
      "execution_count": null,
      "outputs": []
    },
    {
      "cell_type": "code",
      "execution_count": null,
      "metadata": {
        "id": "fD4pZrdUBiZ8"
      },
      "outputs": [],
      "source": [
        "#why we require comminting?\n",
        "#better understanding of the code"
      ]
    },
    {
      "cell_type": "code",
      "source": [
        "#Numerical data type\n",
        "#3 types of numerical data type\n",
        "#1.integer: A Whole number without decimal points\n",
        "#print(): to display output\n",
        "print(10)\n",
        "#how can you find the data type?\n",
        "#type(): used for to know the data type\n",
        "print(type(10))"
      ],
      "metadata": {
        "id": "-PUUv3tbC84M"
      },
      "execution_count": null,
      "outputs": []
    },
    {
      "cell_type": "code",
      "source": [
        "#2.float: a whole number either -ve or +ve with decimal points\n",
        "print(10.5)\n",
        "print(type(10.5))\n",
        "print(2.35)\n",
        "print(type(2.35))\n",
        "print(-1.0)\n",
        "print(type(-1.0))"
      ],
      "metadata": {
        "colab": {
          "base_uri": "https://localhost:8080/"
        },
        "id": "oKBlZ0IeD4OV",
        "outputId": "6beb130c-8643-4a8f-b99d-878ffb7c9bb5"
      },
      "execution_count": null,
      "outputs": [
        {
          "output_type": "stream",
          "name": "stdout",
          "text": [
            "10.5\n",
            "<class 'float'>\n",
            "2.35\n",
            "<class 'float'>\n",
            "-1.0\n",
            "<class 'float'>\n"
          ]
        }
      ]
    },
    {
      "cell_type": "code",
      "source": [
        "#3.complex : a real number with its imaginary part\n",
        "#what is j?\n",
        "#j = iota (root-1)\n",
        "print(2+4j)\n",
        "print(type(2+4j))"
      ],
      "metadata": {
        "id": "mZzNYWo6Eaq1",
        "colab": {
          "base_uri": "https://localhost:8080/"
        },
        "outputId": "d0ee4b39-844d-4d86-a087-6497046aa474"
      },
      "execution_count": null,
      "outputs": [
        {
          "output_type": "stream",
          "name": "stdout",
          "text": [
            "(2+4j)\n",
            "<class 'complex'>\n"
          ]
        }
      ]
    },
    {
      "cell_type": "markdown",
      "source": [
        "#Arthamatic operation\n"
      ],
      "metadata": {
        "id": "_A2r-71yFwbR"
      }
    },
    {
      "cell_type": "code",
      "source": [
        "#what are all arthamatic operators?\n",
        "#1.Addition: \"+\"\n",
        "print(10+5)\n",
        "print(type(10+5))\n",
        "#2.subtraction: \"-\"\n",
        "print(10-5)\n",
        "print(type(10+5))\n",
        "#3.Multiplication: \"*\"\n",
        "print(10*5)\n",
        "print(type(10+5))\n",
        "#4.division: \"/\" (forward slash)\n",
        "print(10/5)\n",
        "print(type(10/5))"
      ],
      "metadata": {
        "colab": {
          "base_uri": "https://localhost:8080/"
        },
        "id": "cspyaU4AF2eq",
        "outputId": "607cb542-c4a4-418a-f83a-e6d4655d51a8"
      },
      "execution_count": null,
      "outputs": [
        {
          "output_type": "stream",
          "name": "stdout",
          "text": [
            "15\n",
            "<class 'int'>\n",
            "5\n",
            "<class 'int'>\n",
            "50\n",
            "<class 'int'>\n",
            "2.0\n",
            "<class 'float'>\n"
          ]
        }
      ]
    },
    {
      "cell_type": "code",
      "source": [
        "#5.Exponential: to the power off (**)\n",
        "print(2**3)\n",
        "print(type(2**3))"
      ],
      "metadata": {
        "colab": {
          "base_uri": "https://localhost:8080/"
        },
        "id": "1MI0LdgmG6fC",
        "outputId": "cf5f56d8-055c-4e89-ce2f-62cafe907a55"
      },
      "execution_count": null,
      "outputs": [
        {
          "output_type": "stream",
          "name": "stdout",
          "text": [
            "8\n",
            "<class 'int'>\n"
          ]
        }
      ]
    },
    {
      "cell_type": "code",
      "source": [
        "#6.floor division: it will ignores the values after decimal points\n",
        "#denoted with \"//\"\n",
        "print(10/3)\n",
        "print(10//3)"
      ],
      "metadata": {
        "colab": {
          "base_uri": "https://localhost:8080/"
        },
        "id": "4WQ9o_H9I1T9",
        "outputId": "aae18106-8762-4d17-e32e-9eba2abda96d"
      },
      "execution_count": null,
      "outputs": [
        {
          "output_type": "stream",
          "name": "stdout",
          "text": [
            "3.3333333333333335\n",
            "3\n"
          ]
        }
      ]
    },
    {
      "cell_type": "code",
      "source": [
        "#7.Modulus: \"%\" remainder of a division\n",
        "print(10%2)\n",
        "print(type(10%2))"
      ],
      "metadata": {
        "colab": {
          "base_uri": "https://localhost:8080/"
        },
        "id": "aQFPHws4JlKS",
        "outputId": "7ae6c652-5e7e-4daa-ef01-ab883d37fe15"
      },
      "execution_count": null,
      "outputs": [
        {
          "output_type": "stream",
          "name": "stdout",
          "text": [
            "0\n",
            "<class 'int'>\n"
          ]
        }
      ]
    },
    {
      "cell_type": "code",
      "source": [
        "#find the give number is odd or even?\n",
        "# if output is 0 - even\n",
        "# if output is 1 - odd\n",
        "print(5%2)\n",
        "print(6%2)\n",
        "print(78%2)"
      ],
      "metadata": {
        "colab": {
          "base_uri": "https://localhost:8080/"
        },
        "id": "h63oAKtILK2U",
        "outputId": "91a661e4-f146-49ab-d3ec-3abdd1ec19b6"
      },
      "execution_count": null,
      "outputs": [
        {
          "output_type": "stream",
          "name": "stdout",
          "text": [
            "1\n",
            "0\n",
            "0\n"
          ]
        }
      ]
    },
    {
      "cell_type": "code",
      "source": [
        "#What is a floor value?\n",
        "#it is a value before decimal point"
      ],
      "metadata": {
        "id": "5jR2Vo5tL4_i"
      },
      "execution_count": null,
      "outputs": []
    },
    {
      "cell_type": "code",
      "source": [
        "#IDE: integreted development environment --> code executer, compiler, write our code and display\n",
        "#google colab, pycharm, jupter notebook etc"
      ],
      "metadata": {
        "id": "frLZdxc9Pj1-"
      },
      "execution_count": null,
      "outputs": []
    },
    {
      "cell_type": "markdown",
      "source": [
        "Types of errors"
      ],
      "metadata": {
        "id": "IFmD6gTwM0ti"
      }
    },
    {
      "cell_type": "code",
      "source": [
        "#They are two types of errors\n",
        "#1.syntax error: if you break the rules of programming language you have syntax error\n",
        "print(10**3)\n",
        "print(10* *3)\n",
        "#2.Logical error: except syntax error all the errors comes under logical error\n",
        "#Example: indentation error,type error, recursive error etc\n"
      ],
      "metadata": {
        "id": "Pn2oh0uoM4tT",
        "colab": {
          "base_uri": "https://localhost:8080/"
        },
        "outputId": "2df62ff3-d01a-444a-e6cc-fa00644e790e"
      },
      "execution_count": null,
      "outputs": [
        {
          "output_type": "stream",
          "name": "stdout",
          "text": [
            "1000\n",
            "1000\n"
          ]
        }
      ]
    },
    {
      "cell_type": "markdown",
      "source": [
        "#Round function"
      ],
      "metadata": {
        "id": "sxGUE3eLQ5gc"
      }
    },
    {
      "cell_type": "code",
      "source": [
        "#it will give the nearest values means we are rounding off the value\n",
        "print(round(10.5))\n",
        "print(round(10.7))\n",
        "#if the values are equals to or less than(0.5) the round off value can be floor"
      ],
      "metadata": {
        "colab": {
          "base_uri": "https://localhost:8080/"
        },
        "id": "VvS8QDHtQ8fy",
        "outputId": "4efe6c59-8c00-491e-b976-d5edc6c2c6cc"
      },
      "execution_count": null,
      "outputs": [
        {
          "output_type": "stream",
          "name": "stdout",
          "text": [
            "10\n",
            "11\n"
          ]
        }
      ]
    },
    {
      "cell_type": "code",
      "source": [
        "#print round of 2.3456\n",
        "print(round(2.3456))\n",
        "#if i want to print number with 2 decimal point?\n",
        "print(round(2.3456,2))\n",
        "#print 1st 3 decimal points?\n",
        "print(round(2.3456,3))"
      ],
      "metadata": {
        "colab": {
          "base_uri": "https://localhost:8080/"
        },
        "id": "rOW9Bjr8RmJk",
        "outputId": "e2470bd8-3d9f-4f1a-e0dd-70eb126b5f4b"
      },
      "execution_count": null,
      "outputs": [
        {
          "output_type": "stream",
          "name": "stdout",
          "text": [
            "2\n",
            "2.35\n",
            "2.346\n"
          ]
        }
      ]
    },
    {
      "cell_type": "code",
      "source": [
        "#What is ceiling value?\n",
        "#when you use round off function if the values is more than point 5(0.5) it will go for neares upcoming values\n",
        "#so upcoming values is known as ceiling value."
      ],
      "metadata": {
        "id": "A6VF7XM8SpOR"
      },
      "execution_count": null,
      "outputs": []
    },
    {
      "cell_type": "code",
      "source": [
        "print(\"Hello World\")"
      ],
      "metadata": {
        "colab": {
          "base_uri": "https://localhost:8080/"
        },
        "id": "Q703Uz4PT0pO",
        "outputId": "b9e51be1-22ba-45c4-957c-ddc66cce646f"
      },
      "execution_count": null,
      "outputs": [
        {
          "output_type": "stream",
          "name": "stdout",
          "text": [
            "Hello World\n"
          ]
        }
      ]
    },
    {
      "cell_type": "code",
      "source": [
        "#print first 3 decimals from the given 9.6543\n",
        "#9.65\n",
        "print(round(9.6543,2))"
      ],
      "metadata": {
        "colab": {
          "base_uri": "https://localhost:8080/"
        },
        "id": "FG75nWPAEwZi",
        "outputId": "63941a95-8230-4c2a-8928-7ce19cd0d2e9"
      },
      "execution_count": null,
      "outputs": [
        {
          "output_type": "stream",
          "name": "stdout",
          "text": [
            "9.65\n"
          ]
        }
      ]
    },
    {
      "cell_type": "markdown",
      "source": [
        "variables(day2)"
      ],
      "metadata": {
        "id": "cue3mxelFtkr"
      }
    },
    {
      "cell_type": "code",
      "source": [
        "#why we are using the variables?\n",
        "#A containers where we can store our valuable information and whenever you want you reuse it\n",
        "#How can we create an variable?\n",
        "#by using some variables,alphabets,names\n",
        "\"\"\"lets say father age is x and son age is 1/2 father age\"\"\"\n",
        "x = 40\n",
        "son_age = x/2\n",
        "print(son_age)"
      ],
      "metadata": {
        "colab": {
          "base_uri": "https://localhost:8080/"
        },
        "id": "S2kf9DZlFk5Q",
        "outputId": "0f4901fb-2c38-4ada-8f8e-8833b68941cc"
      },
      "execution_count": null,
      "outputs": [
        {
          "output_type": "stream",
          "name": "stdout",
          "text": [
            "20.0\n"
          ]
        }
      ]
    },
    {
      "cell_type": "code",
      "source": [
        "x = 10\n",
        "y = 5\n",
        "print(x+y)\n",
        "print(x-y)\n",
        "print(x*y)\n",
        "print(x/y)\n",
        "print(x%y)\n",
        "print(x**y)\n",
        "print(x//y)"
      ],
      "metadata": {
        "colab": {
          "base_uri": "https://localhost:8080/"
        },
        "id": "_0kzlnYjIEGM",
        "outputId": "2f4bd330-e2b1-45f1-9e65-3fd9abc0189f"
      },
      "execution_count": null,
      "outputs": [
        {
          "output_type": "stream",
          "name": "stdout",
          "text": [
            "15\n",
            "5\n",
            "50\n",
            "2.0\n",
            "0\n",
            "100000\n",
            "2\n"
          ]
        }
      ]
    },
    {
      "cell_type": "code",
      "source": [
        "#Rules to follow for writing variables\n",
        "#1.variables can written by using alphabets\n",
        "x = \"Hello world\"\n",
        "print(x)\n",
        "#2. you cannot start with numbers\n",
        "#3. If you follow rule 1 and 2 then you can start with alphabets in b/w you use number\n",
        "hello3 = \"hello world\"\n",
        "print(hello3)\n",
        "#4. you can start with _\n",
        "_ = 10\n",
        "print(_)\n",
        "#5. you cannot use special chartacters\n",
        "#6. you cannot give spaces in b/w variables\n",
        "#7. dont start a variable with capital letters\n",
        "#8. variables are case sensitive\n",
        "#c = 10\n",
        "#print(C)"
      ],
      "metadata": {
        "colab": {
          "base_uri": "https://localhost:8080/"
        },
        "id": "csxWM4O8Jbfw",
        "outputId": "b9796e97-7dac-4a86-c774-f3b492c6ba03"
      },
      "execution_count": null,
      "outputs": [
        {
          "output_type": "stream",
          "name": "stdout",
          "text": [
            "Hello world\n",
            "hello world\n",
            "10\n"
          ]
        }
      ]
    },
    {
      "cell_type": "code",
      "source": [
        "#smart ways of writing variable\n",
        "#1.Assign multiple values to multiple variable and print it?\n",
        "a,b,c = 10,20,30\n",
        "#print(a,b,c)\n",
        "#2.assign single values to multiple variable\n",
        "a = 10\n",
        "b = 10\n",
        "c = 10\n",
        "#print(a,b,c)\n",
        "\n",
        "a = b = c = 10\n",
        "#print(a,b,c)\n",
        "#print the output in seprate line\n",
        "#we are using sep = \"\\n\" to print the output in n no.of lines\n",
        "print(a,b,c, sep=\"\\n\")"
      ],
      "metadata": {
        "colab": {
          "base_uri": "https://localhost:8080/"
        },
        "id": "81FnqtMCLhM_",
        "outputId": "a5c55cbe-c5d7-4f52-8a18-5dad0c75c224"
      },
      "execution_count": null,
      "outputs": [
        {
          "output_type": "stream",
          "name": "stdout",
          "text": [
            "10\n",
            "10\n",
            "10\n"
          ]
        }
      ]
    },
    {
      "cell_type": "markdown",
      "source": [
        "#Input function"
      ],
      "metadata": {
        "id": "xloN6htXOV7n"
      }
    },
    {
      "cell_type": "code",
      "source": [
        "#What is input()?\n",
        "#it will takes what ever information given by user\n",
        "#how to access the input()?\n",
        "#to create input function we are using \"input()\" along with variables\n",
        "#How to access the input()?\n",
        "#with help of input variable we can access the input()\n",
        "#What is use of input?\n",
        "#we can give multiple values to the single variable"
      ],
      "metadata": {
        "id": "59wP9L8mOaaK"
      },
      "execution_count": null,
      "outputs": []
    },
    {
      "cell_type": "code",
      "source": [
        "#we can give multiple user values to the single variable\n",
        "a = input()\n",
        "print(a)\n",
        "print(type(a))"
      ],
      "metadata": {
        "id": "eo_aM59bPpfK"
      },
      "execution_count": null,
      "outputs": []
    },
    {
      "cell_type": "code",
      "source": [
        "x = int(input())\n",
        "y = int(input())\n",
        "print(x+y)\n",
        "print(x-y)\n",
        "print(x*y)\n",
        "print(x/y)\n",
        "print(x%y)\n",
        "print(x**y)\n",
        "print(x//y)\n"
      ],
      "metadata": {
        "colab": {
          "base_uri": "https://localhost:8080/"
        },
        "id": "x18rOjG4QEI9",
        "outputId": "4e208f03-2df2-475e-c126-252016fb04ef"
      },
      "execution_count": null,
      "outputs": [
        {
          "output_type": "stream",
          "name": "stdout",
          "text": [
            "10\n",
            "20\n",
            "30\n",
            "-10\n",
            "200\n",
            "0.5\n",
            "10\n",
            "100000000000000000000\n",
            "0\n"
          ]
        }
      ]
    },
    {
      "cell_type": "markdown",
      "source": [
        "#string"
      ],
      "metadata": {
        "id": "EJds35quRp4d"
      }
    },
    {
      "cell_type": "code",
      "source": [
        "#what is a string?\n",
        "#string collection group of character which written inside \" \"\n",
        "a = \"hello world\"\n",
        "print(a)"
      ],
      "metadata": {
        "colab": {
          "base_uri": "https://localhost:8080/"
        },
        "id": "oWclBN4tRse3",
        "outputId": "c0ba594b-c1ee-4087-adab-8c6a166568e0"
      },
      "execution_count": null,
      "outputs": [
        {
          "output_type": "stream",
          "name": "stdout",
          "text": [
            "hello world\n"
          ]
        }
      ]
    },
    {
      "cell_type": "code",
      "source": [
        "#write a multiple line of string?\n",
        "#\"\"\"  \"\"\"\n",
        "#note:- when you start with double quotes end with double qoutes and vice versa\n",
        "a = input(\"Enter the message: \")\n",
        "print(a)\n"
      ],
      "metadata": {
        "id": "jCs5LXncSEQr"
      },
      "execution_count": null,
      "outputs": []
    },
    {
      "cell_type": "code",
      "source": [
        "#note:- string is collection multiple characters each and every character is accessble.\n",
        "#how can we access each element in a string?\n",
        "#indexing:- positional number of each and every element in a string\n",
        "#slicing operator:- ---->[]"
      ],
      "metadata": {
        "id": "GM3mv7kuVOjG"
      },
      "execution_count": null,
      "outputs": []
    },
    {
      "cell_type": "code",
      "source": [
        "#find the lenght of a string?\n",
        "a = \"hello world\"\n",
        "print(len(a))"
      ],
      "metadata": {
        "colab": {
          "base_uri": "https://localhost:8080/"
        },
        "id": "LpBXtGX_WzSk",
        "outputId": "5c2f627a-a917-4139-de58-2b87a69b257f"
      },
      "execution_count": null,
      "outputs": [
        {
          "output_type": "stream",
          "name": "stdout",
          "text": [
            "11\n"
          ]
        }
      ]
    },
    {
      "cell_type": "markdown",
      "source": [
        "#Index"
      ],
      "metadata": {
        "id": "lsUtvOebYeQq"
      }
    },
    {
      "cell_type": "code",
      "source": [
        "a = \"hello world!\"\n",
        "print(a[0])\n",
        "print(a[6])"
      ],
      "metadata": {
        "colab": {
          "base_uri": "https://localhost:8080/"
        },
        "id": "CWBbjiCmXWzB",
        "outputId": "14033cce-8f14-455f-b907-b18146360c73"
      },
      "execution_count": null,
      "outputs": [
        {
          "output_type": "stream",
          "name": "stdout",
          "text": [
            "h\n",
            "w\n"
          ]
        }
      ]
    },
    {
      "cell_type": "code",
      "source": [
        "#print range of the characters?\n",
        "#[start:end]\n",
        "#print \"hello\" from \"hello world\"\n",
        "a = \"Hello World!\"\n",
        "print(a[0:5])\n",
        "print(a[6:11])\n",
        "#note:- if u want to display specific end character you need add it with 1--> n+1"
      ],
      "metadata": {
        "colab": {
          "base_uri": "https://localhost:8080/"
        },
        "id": "UKc_t7PSbVeW",
        "outputId": "a4ffd2bf-8249-4dac-be94-511abce2caf1"
      },
      "execution_count": null,
      "outputs": [
        {
          "output_type": "stream",
          "name": "stdout",
          "text": [
            "Hello\n",
            "World\n"
          ]
        }
      ]
    },
    {
      "cell_type": "code",
      "source": [
        "#i want to print stepwise elements from string\n",
        "#[start:end:step]\n",
        "print(a[0:12:3])"
      ],
      "metadata": {
        "colab": {
          "base_uri": "https://localhost:8080/"
        },
        "id": "EovdHX4mcZRn",
        "outputId": "e2f01d95-9aa8-4e67-e525-0521ab10147c"
      },
      "execution_count": null,
      "outputs": [
        {
          "output_type": "stream",
          "name": "stdout",
          "text": [
            "HlWl\n"
          ]
        }
      ]
    },
    {
      "cell_type": "code",
      "source": [
        "#Negative indexing:- accessing the elements in string from reverse direction start from -1\n",
        "#print last character of the string:\n",
        "a = \"Hello World!\"\n",
        "print(a[-1])\n",
        "#print world from hello world in --ve indexing?\n",
        "print(a[-6:-1])"
      ],
      "metadata": {
        "colab": {
          "base_uri": "https://localhost:8080/"
        },
        "id": "zsOaYE0jdyEK",
        "outputId": "7b3391d3-4899-4539-aa06-addc752416af"
      },
      "execution_count": null,
      "outputs": [
        {
          "output_type": "stream",
          "name": "stdout",
          "text": [
            "!\n",
            "World\n"
          ]
        }
      ]
    },
    {
      "cell_type": "code",
      "source": [
        "#but i want go in reverse direction\n",
        "#step\n",
        "print(a[-1:-7:-1])"
      ],
      "metadata": {
        "colab": {
          "base_uri": "https://localhost:8080/"
        },
        "id": "fG_nD33CfJk2",
        "outputId": "ed095953-3797-4120-a8ca-c915feb1e7d7"
      },
      "execution_count": null,
      "outputs": [
        {
          "output_type": "stream",
          "name": "stdout",
          "text": [
            "!dlroW\n"
          ]
        }
      ]
    },
    {
      "cell_type": "code",
      "source": [
        "a = \"univerese\"\n",
        "print(a[-1:-10:-1])\n",
        "#default methods\n",
        "#[start:end:step]\n",
        "print(a[::-1])"
      ],
      "metadata": {
        "colab": {
          "base_uri": "https://localhost:8080/"
        },
        "id": "69dkP3LWfg2v",
        "outputId": "8a026878-cfb4-45ea-acd5-0a8cc586ab50"
      },
      "execution_count": null,
      "outputs": [
        {
          "output_type": "stream",
          "name": "stdout",
          "text": [
            "eserevinu\n",
            "eserevinu\n"
          ]
        }
      ]
    },
    {
      "cell_type": "code",
      "source": [
        "#string = \"Hello, World\"\n",
        "#print(string[::])\n",
        "string = \"Hello World\"\n",
        "print(string[-2:])"
      ],
      "metadata": {
        "colab": {
          "base_uri": "https://localhost:8080/"
        },
        "id": "UmapLIxRWPWX",
        "outputId": "da1c7f8b-1ffa-4e58-e496-aaf134cdc3a1"
      },
      "execution_count": null,
      "outputs": [
        {
          "output_type": "stream",
          "name": "stdout",
          "text": [
            "ld\n"
          ]
        }
      ]
    },
    {
      "cell_type": "code",
      "source": [
        "#tell whether is  Palindrome\n",
        "a = \"mom\"\n",
        "print(a)\n",
        "print(a[::-1])"
      ],
      "metadata": {
        "colab": {
          "base_uri": "https://localhost:8080/"
        },
        "id": "mZjMM2mch1hq",
        "outputId": "816ec085-ff48-41b0-ff69-fea0a29d96be"
      },
      "execution_count": null,
      "outputs": [
        {
          "output_type": "stream",
          "name": "stdout",
          "text": [
            "mom\n",
            "mom\n"
          ]
        }
      ]
    },
    {
      "cell_type": "markdown",
      "source": [
        "#string Methods(day3)"
      ],
      "metadata": {
        "id": "3EELnlA7YrDe"
      }
    },
    {
      "cell_type": "code",
      "source": [
        "#dir()\n",
        "x = \"hello world\"\n",
        "#What are all the methods i can apply on x = \"hello world\"\n",
        "#we are using dir() to know what are all the methods are apply on the string\n",
        "print(dir(x))"
      ],
      "metadata": {
        "colab": {
          "base_uri": "https://localhost:8080/"
        },
        "id": "QVNHiLmEYvFv",
        "outputId": "cf46ad55-7395-43af-c862-539608674a22"
      },
      "execution_count": null,
      "outputs": [
        {
          "output_type": "stream",
          "name": "stdout",
          "text": [
            "['__add__', '__class__', '__contains__', '__delattr__', '__dir__', '__doc__', '__eq__', '__format__', '__ge__', '__getattribute__', '__getitem__', '__getnewargs__', '__gt__', '__hash__', '__init__', '__init_subclass__', '__iter__', '__le__', '__len__', '__lt__', '__mod__', '__mul__', '__ne__', '__new__', '__reduce__', '__reduce_ex__', '__repr__', '__rmod__', '__rmul__', '__setattr__', '__sizeof__', '__str__', '__subclasshook__', 'capitalize', 'casefold', 'center', 'count', 'encode', 'endswith', 'expandtabs', 'find', 'format', 'format_map', 'index', 'isalnum', 'isalpha', 'isascii', 'isdecimal', 'isdigit', 'isidentifier', 'islower', 'isnumeric', 'isprintable', 'isspace', 'istitle', 'isupper', 'join', 'ljust', 'lower', 'lstrip', 'maketrans', 'partition', 'removeprefix', 'removesuffix', 'replace', 'rfind', 'rindex', 'rjust', 'rpartition', 'rsplit', 'rstrip', 'split', 'splitlines', 'startswith', 'strip', 'swapcase', 'title', 'translate', 'upper', 'zfill']\n"
          ]
        }
      ]
    },
    {
      "cell_type": "code",
      "source": [
        "#1.capitalize()\n",
        "#2.upper()\n",
        "#3.lower()\n",
        "#4.replace()\n",
        "#5.trim()\n",
        "#6.ltrim()\n",
        "#7.rtrim()\n",
        "#8.title()\n",
        "#9.swapcase()\n",
        "#10.split()\n",
        "#how can you apply string methods?\n",
        "x = \"hello world!\"\n",
        "print(x.upper())\n",
        "print(x.lower())\n",
        "print(x.title())\n",
        "print(x.swapcase())\n",
        "print(x.split())"
      ],
      "metadata": {
        "colab": {
          "base_uri": "https://localhost:8080/"
        },
        "id": "hUwYr1LLZ4Me",
        "outputId": "db348034-acf3-4cb8-95e3-912a5f82ad68"
      },
      "execution_count": null,
      "outputs": [
        {
          "output_type": "stream",
          "name": "stdout",
          "text": [
            "HELLO WORLD!\n",
            "hello world!\n",
            "Hello World!\n",
            "HELLO WORLD!\n",
            "['hello', 'world!']\n"
          ]
        }
      ]
    },
    {
      "cell_type": "markdown",
      "source": [
        "**string format method**"
      ],
      "metadata": {
        "id": "fPCgi-3EbnsA"
      }
    },
    {
      "cell_type": "code",
      "source": [
        "#what is the string format method?\n",
        "#FALLING the placeholder{} with given arguments\n",
        "#there are format methods\n",
        "#1.1st method\n",
        "age = 40\n",
        "string = \"my age is {}\"\n",
        "print(string.format(age))\n",
        "#2nd method\n",
        "age = 40\n",
        "string = \"my age is {}\".format(age)\n",
        "print(string)\n",
        "#3.3rd (f'format method)\n",
        "age = 40\n",
        "string = f\"my age is {age}\"\n",
        "print(string)"
      ],
      "metadata": {
        "colab": {
          "base_uri": "https://localhost:8080/"
        },
        "id": "FUQt186SbkKS",
        "outputId": "aadbff73-19c5-4c69-af9f-99b82ce88400"
      },
      "execution_count": null,
      "outputs": [
        {
          "output_type": "stream",
          "name": "stdout",
          "text": [
            "my age is 40\n",
            "my age is 40\n",
            "my age is 40\n"
          ]
        }
      ]
    },
    {
      "cell_type": "code",
      "source": [
        "#2nd method\n",
        "item = \"product A\"\n",
        "price = 99.9\n",
        "quntity = 20\n",
        "text = \"Your order for {} number of items {} priced at {} is confirmed\".format(item,price,quntity)\n",
        "print(text)"
      ],
      "metadata": {
        "colab": {
          "base_uri": "https://localhost:8080/"
        },
        "id": "H5GYkXuneHRN",
        "outputId": "07a1cd94-fc7e-420d-c7c3-b0f9424a6429"
      },
      "execution_count": null,
      "outputs": [
        {
          "output_type": "stream",
          "name": "stdout",
          "text": [
            "Your order for product A number of items 99.9 priced at 20 is confirmed\n"
          ]
        }
      ]
    },
    {
      "cell_type": "code",
      "source": [
        "#3rd method\n",
        "item = \"product A\"\n",
        "price = 99.9\n",
        "quntity = 20\n",
        "text = f\"Your order for {item} number of items {quntity} priced at {price} is confirmed\"\n",
        "print(text)"
      ],
      "metadata": {
        "colab": {
          "base_uri": "https://localhost:8080/"
        },
        "id": "10tKasY7fTsn",
        "outputId": "7b882c6c-bcd9-4f86-fbdd-18d07b4427ff"
      },
      "execution_count": null,
      "outputs": [
        {
          "output_type": "stream",
          "name": "stdout",
          "text": [
            "Your order for product A number of items 20 priced at 99.9 is confirmed\n"
          ]
        }
      ]
    },
    {
      "cell_type": "code",
      "source": [
        "item = \"product A\"\n",
        "price = 99.9\n",
        "quntity = 20\n",
        "text = f\"Your order for {item} number of items {quntity} priced at {price*quntity} is confirmed\"\n",
        "print(text)"
      ],
      "metadata": {
        "colab": {
          "base_uri": "https://localhost:8080/"
        },
        "id": "AW4RhVxmgGfm",
        "outputId": "e4a8b4c0-1074-4bd0-8826-9b07251a6225"
      },
      "execution_count": null,
      "outputs": [
        {
          "output_type": "stream",
          "name": "stdout",
          "text": [
            "Your order for product A number of items 20 priced at 1998.0 is confirmed\n"
          ]
        }
      ]
    },
    {
      "cell_type": "markdown",
      "source": [
        "#condtional statements(control structures)"
      ],
      "metadata": {
        "id": "bnFd1UzugbaR"
      }
    },
    {
      "cell_type": "code",
      "source": [
        "#what are all comparision operators do we have in python?\n",
        "#1.equals to ----> ==\n",
        "#2.not equals ----> !=\n",
        "#3.greater than -----> >\n",
        "#4.less than ----->  <\n",
        "#5.greater than equals  -----> >=\n",
        "#6.less than equals ---------->  <=\n",
        "#what are all condition statements we are having?\n",
        "#if,elif,else"
      ],
      "metadata": {
        "id": "VJCQWmGugfsE"
      },
      "execution_count": null,
      "outputs": []
    },
    {
      "cell_type": "code",
      "source": [
        "marks = 34\n",
        "passing_marks = 35\n",
        "total_marks = 100\n",
        "if marks >= passing_marks:\n",
        "  print(\"Congratulations \")\n",
        "  print(f\"you have pass with {marks} marks\")\n",
        "else:\n",
        "  print(\"Better luck next time\")\n",
        "  print(f\"you have got {marks} marks\")"
      ],
      "metadata": {
        "colab": {
          "base_uri": "https://localhost:8080/"
        },
        "id": "YWlVFRDLiORn",
        "outputId": "4b52be24-7602-4333-d119-798b8f86e7b0"
      },
      "execution_count": null,
      "outputs": [
        {
          "output_type": "stream",
          "name": "stdout",
          "text": [
            "Better luck next time\n",
            "you have got 34 marks\n"
          ]
        }
      ]
    },
    {
      "cell_type": "code",
      "source": [
        "#print a number if it is +ve print +ve if it is -ve print -ve if it is zero print \"neutral\"\n",
        "a = int(input(\"Enter the number: \"))\n",
        "if a > 0:\n",
        "  print(\"Positive\")\n",
        "elif a == 0:\n",
        "  print(\"Neutral\")\n",
        "else:\n",
        "  print(\"Negative\")"
      ],
      "metadata": {
        "colab": {
          "base_uri": "https://localhost:8080/"
        },
        "id": "TcP3m0DZjnmB",
        "outputId": "bd8065f4-b4b5-4a9c-ecd1-c29e3a0eb8d9"
      },
      "execution_count": null,
      "outputs": [
        {
          "output_type": "stream",
          "name": "stdout",
          "text": [
            "Enter the number: -1\n",
            "Negative\n"
          ]
        }
      ]
    },
    {
      "cell_type": "markdown",
      "source": [
        "#Logical Operators"
      ],
      "metadata": {
        "id": "SI2HsZNQlFMr"
      }
    },
    {
      "cell_type": "code",
      "source": [
        "#logical operators:- and, or, not\n",
        "#and:- all the condition present true\n",
        "#or:- if any one condition satisifed\n",
        "#not:- reverse out put"
      ],
      "metadata": {
        "id": "gcXTPpXSlIm5"
      },
      "execution_count": null,
      "outputs": []
    },
    {
      "cell_type": "code",
      "source": [
        "print(10 == 10)\n",
        "print(not(10 == 10))"
      ],
      "metadata": {
        "colab": {
          "base_uri": "https://localhost:8080/"
        },
        "id": "BYfMJKcfloTs",
        "outputId": "8858fe61-25f0-49f7-f34c-37aa9088edaf"
      },
      "execution_count": null,
      "outputs": [
        {
          "output_type": "stream",
          "name": "stdout",
          "text": [
            "True\n",
            "False\n"
          ]
        }
      ]
    },
    {
      "cell_type": "code",
      "source": [
        "a = 10\n",
        "b = 56\n",
        "c = 455\n",
        "#check the condition a is lesser than b and b is lesser than c and b is greater than a\n",
        "if a < b and b < c and b > a:\n",
        "  print(\"yes\")\n",
        "else:\n",
        "  print(\"No\")"
      ],
      "metadata": {
        "colab": {
          "base_uri": "https://localhost:8080/"
        },
        "id": "877ZGQ7gl4RA",
        "outputId": "7fe4724b-77ab-4b38-9f79-486dc19baf88"
      },
      "execution_count": null,
      "outputs": [
        {
          "output_type": "stream",
          "name": "stdout",
          "text": [
            "yes\n"
          ]
        }
      ]
    },
    {
      "cell_type": "code",
      "source": [
        "a = 10\n",
        "b = 56\n",
        "c = 455\n",
        "#check the condition a is lesser than b and b is lesser than c and b is greater than a\n",
        "if a > b or b < c or b > a:\n",
        "  print(\"yes\")\n",
        "else:\n",
        "  print(\"No\")"
      ],
      "metadata": {
        "colab": {
          "base_uri": "https://localhost:8080/"
        },
        "id": "pJkX3Hf4m7K9",
        "outputId": "9450064b-5ef1-4332-f8fa-f2c06b308559"
      },
      "execution_count": null,
      "outputs": [
        {
          "output_type": "stream",
          "name": "stdout",
          "text": [
            "yes\n"
          ]
        }
      ]
    },
    {
      "cell_type": "code",
      "source": [
        "#nested condition:\n",
        "#when we have to use nested condition.\n",
        "a = 10\n",
        "#i want display all the conditions satisified\n",
        "if a > 10:\n",
        "  print(\"a is greater than 10\")\n",
        "else"
      ],
      "metadata": {
        "id": "u_6YmCemnBGh"
      },
      "execution_count": null,
      "outputs": []
    },
    {
      "cell_type": "code",
      "source": [
        "#pass:- is a null place holder when you excute it noting will happens\n",
        "a = int(input(\"Enter the number: \"))\n",
        "if a > 0:\n",
        "  pass"
      ],
      "metadata": {
        "colab": {
          "base_uri": "https://localhost:8080/"
        },
        "id": "unxj-AkHonfc",
        "outputId": "36f29eef-c71a-4a67-9fa2-8312dc554e57"
      },
      "execution_count": null,
      "outputs": [
        {
          "name": "stdout",
          "output_type": "stream",
          "text": [
            "Enter the number: 5\n"
          ]
        }
      ]
    },
    {
      "cell_type": "code",
      "source": [
        "string = \"Hello, World!\"\n",
        "print(string[::-1])"
      ],
      "metadata": {
        "id": "bPcD8JD5qUN9",
        "colab": {
          "base_uri": "https://localhost:8080/"
        },
        "outputId": "c2275c1b-73cf-4c83-d1a0-7b4a3b426e60"
      },
      "execution_count": null,
      "outputs": [
        {
          "output_type": "stream",
          "name": "stdout",
          "text": [
            "!dlroW ,olleH\n"
          ]
        }
      ]
    },
    {
      "cell_type": "code",
      "source": [
        "x = \"hello world\"\n",
        "print(x.split())"
      ],
      "metadata": {
        "colab": {
          "base_uri": "https://localhost:8080/"
        },
        "id": "etWj-7Ti63ef",
        "outputId": "1367a359-7128-4b79-dde5-7a727d80be5f"
      },
      "execution_count": null,
      "outputs": [
        {
          "output_type": "stream",
          "name": "stdout",
          "text": [
            "['hello', 'world']\n"
          ]
        }
      ]
    },
    {
      "cell_type": "code",
      "source": [
        "#check what grade we can give to the students based upon their marks?\n",
        "#total marks = 100\n",
        "#if the student get 90 to 100 --> A+\n",
        "#if the student get 80 to 90 --> A\n",
        "#if the student get 70 to 80 --> B+\n",
        "#if the student get 60 to 70 --> B\n",
        "#if the student get 50 to 60 --> c\n",
        "#if the student get 40 to 50 --> D\n",
        "#Below it display \"better luck next time.\""
      ],
      "metadata": {
        "id": "S20wmcvb70qV"
      },
      "execution_count": null,
      "outputs": []
    },
    {
      "cell_type": "code",
      "source": [
        "a = int(input(\"Enter the number: \"))\n",
        "total_marks = 100\n",
        "if a >= 90 and a <= 100:\n",
        "  print(\"Grade A+\")\n",
        "elif a >= 80 and a <= 89:\n",
        "  print(\"Grade A\")\n",
        "elif a >= 70 and a <= 79:\n",
        "  print(\"Grade B+\")\n",
        "elif a >= 60 and a <= 69:\n",
        "  print(\"Grade B\")\n",
        "elif a >= 50 and a <= 59:\n",
        "  print(\"Grade C\")\n",
        "elif a >= 40 and a <= 49:\n",
        "  print(\"Grade D\")\n",
        "elif a>=100:\n",
        "  print(\"invalid number\")\n",
        "else:\n",
        "  a>=39\n",
        "  print(\"Better luck next time\")"
      ],
      "metadata": {
        "colab": {
          "base_uri": "https://localhost:8080/"
        },
        "id": "S3oi-iyf72TE",
        "outputId": "08d78772-f3c8-45e1-dad0-49ccf37f829b"
      },
      "execution_count": null,
      "outputs": [
        {
          "output_type": "stream",
          "name": "stdout",
          "text": [
            "Enter the number: 39\n",
            "Better luck next time\n"
          ]
        }
      ]
    },
    {
      "cell_type": "markdown",
      "source": [
        "#Loops(day4)"
      ],
      "metadata": {
        "id": "UD08A9RegvpN"
      }
    },
    {
      "cell_type": "code",
      "source": [
        "#why we are use loops\n",
        "#we are using this loops to avoid the \"wet code\" and to encourage \"dry code\"\n",
        "#1.wet code:- mean you are repeating the code.\n",
        "\"\"\" W --> write\n",
        "    E--> everything\n",
        "    T ---> twice\n",
        "\"\"\"\n",
        "#2.dry code:- mean not repeating the same code\n",
        "\"\"\" D --> don`t\n",
        "    R --> repat\n",
        "    Y --> yourself\n",
        "\"\"\"\n",
        "#how many types of loops in py prog lang?\n",
        "#1. while\n",
        "#2.for loop\n",
        "\n",
        "#while loop:- it works/runs a set of instruction as long as the conditions true\n",
        "#1.write a program to run a lift to reach 4th floor?\n",
        "d = 4\n",
        "i = 0\n",
        "while i < d:\n",
        "  print(\"go up\")\n",
        "  print(\"rep go up\")\n",
        "  i = i + 1\n",
        "#2.let say i = 10 while the i value is less than 10 print the values of i upto 10?\n",
        "i = 0\n",
        "while i < 10:\n",
        "  print(i)\n",
        "  i = i + 1\n",
        "#3.print the multiples of 2 upto 10 for that write a program?\n",
        "d = 5\n",
        "i = 0\n",
        "while i < d:\n",
        "  print(i * 2)\n",
        "  i = i + 1"
      ],
      "metadata": {
        "colab": {
          "base_uri": "https://localhost:8080/"
        },
        "id": "njpp5RpQgzzd",
        "outputId": "bc43b39e-5cce-4999-8f7d-e3baa0bc8c93"
      },
      "execution_count": null,
      "outputs": [
        {
          "output_type": "stream",
          "name": "stdout",
          "text": [
            "go up\n",
            "rep go up\n",
            "go up\n",
            "rep go up\n",
            "go up\n",
            "rep go up\n",
            "go up\n",
            "rep go up\n",
            "0\n",
            "1\n",
            "2\n",
            "3\n",
            "4\n",
            "5\n",
            "6\n",
            "7\n",
            "8\n",
            "9\n",
            "0\n",
            "2\n",
            "4\n",
            "6\n",
            "8\n"
          ]
        }
      ]
    },
    {
      "cell_type": "code",
      "source": [
        "#write a program wheater the given string is palindrome or not?\n",
        "a = input(\"Enter the text: \")\n",
        "a_rev = a[::-1]\n",
        "print(f\"rev of string {a_rev}\")\n",
        "if a.lower() == a_rev.lower():\n",
        "  print(f\"{a} is palidrome\")\n",
        "else:\n",
        "  print(f\"{a} is not palidrome\")"
      ],
      "metadata": {
        "colab": {
          "base_uri": "https://localhost:8080/"
        },
        "id": "HRt5ESqAroke",
        "outputId": "966e323f-48c8-41cc-d921-aba716eaa741"
      },
      "execution_count": null,
      "outputs": [
        {
          "output_type": "stream",
          "name": "stdout",
          "text": [
            "Enter the text: MAdAm\n",
            "rev of string mAdAM\n",
            "MAdAm is palidrome\n"
          ]
        }
      ]
    },
    {
      "cell_type": "code",
      "source": [
        "#write a program to print multiple of 2 in the given list?\n",
        "#list = [1,2,3,4,5,6,7,8,9,10]"
      ],
      "metadata": {
        "id": "9dqVQFwotR0B"
      },
      "execution_count": null,
      "outputs": []
    },
    {
      "cell_type": "markdown",
      "source": [
        "#for loop"
      ],
      "metadata": {
        "id": "RIBocwEgt5pM"
      }
    },
    {
      "cell_type": "code",
      "source": [
        "#for loop:- it runs a set of instruction over a collections(list, tuple, set, dictionary)\n",
        "\n",
        "#write a program to print multiple of 2 in the given list?\n",
        "#list = [1,2,3,4,5,6,7,8,9,10]\n",
        "#list = [1,2,3,4,5,6,7,8,9,10]\n",
        "#new_list = []\n",
        "#for i in list:\n",
        "#  print(i * 2)\n",
        "\n",
        "list = [1,2,3,4,5,6,7,8,9,10]\n",
        "new_list = []\n",
        "for i in list:\n",
        "  new_list.append(i * 2)\n",
        "  print(new_list)"
      ],
      "metadata": {
        "colab": {
          "base_uri": "https://localhost:8080/"
        },
        "id": "C16kBpNWt7oY",
        "outputId": "83e9cd80-d6c1-48dd-bbe4-905bbe749b0b"
      },
      "execution_count": null,
      "outputs": [
        {
          "output_type": "stream",
          "name": "stdout",
          "text": [
            "[2]\n",
            "[2, 4]\n",
            "[2, 4, 6]\n",
            "[2, 4, 6, 8]\n",
            "[2, 4, 6, 8, 10]\n",
            "[2, 4, 6, 8, 10, 12]\n",
            "[2, 4, 6, 8, 10, 12, 14]\n",
            "[2, 4, 6, 8, 10, 12, 14, 16]\n",
            "[2, 4, 6, 8, 10, 12, 14, 16, 18]\n",
            "[2, 4, 6, 8, 10, 12, 14, 16, 18, 20]\n"
          ]
        }
      ]
    },
    {
      "cell_type": "code",
      "source": [
        "#print the hello world in separate line?\n",
        "a = \"hello world\"\n",
        "for i in a:\n",
        "  print(i)"
      ],
      "metadata": {
        "colab": {
          "base_uri": "https://localhost:8080/"
        },
        "id": "3aWf3nQov3w6",
        "outputId": "192d72c7-dbdb-43de-9ee7-34447767d879"
      },
      "execution_count": null,
      "outputs": [
        {
          "output_type": "stream",
          "name": "stdout",
          "text": [
            "h\n",
            "e\n",
            "l\n",
            "l\n",
            "o\n",
            " \n",
            "w\n",
            "o\n",
            "r\n",
            "l\n",
            "d\n"
          ]
        }
      ]
    },
    {
      "cell_type": "code",
      "source": [
        "#break & continue\n",
        "#breaks :-stops the loops irrespective of entire\n",
        "#continue :- skip the current iteration\n",
        "#number = [1,2,3,4,5,6,7,8]\n",
        "#for i in number:\n",
        "#  if i == 8:\n",
        "#    break\n",
        "#  print(i)\n",
        "#continue\n",
        "number = [1,2,3,4,5,6]\n",
        "for i in number:\n",
        "  if i == 3:\n",
        "    continue\n",
        "  print(i)"
      ],
      "metadata": {
        "colab": {
          "base_uri": "https://localhost:8080/"
        },
        "id": "FfJddyMQwl-J",
        "outputId": "f84caf07-f2d7-4ad7-b1ed-62d887eec4a5"
      },
      "execution_count": null,
      "outputs": [
        {
          "output_type": "stream",
          "name": "stdout",
          "text": [
            "1\n",
            "2\n",
            "4\n",
            "5\n",
            "6\n"
          ]
        }
      ]
    },
    {
      "cell_type": "code",
      "source": [
        "#a = [10,20,30,40,50,60,70,80,90]\n",
        "#skip 20,40,70\n",
        "a = [10,20,30,40,50,60,70,80,90]\n",
        "for i in a:\n",
        "  if i == 20 or i == 40 or i == 70:\n",
        "    continue\n",
        "  print(i)"
      ],
      "metadata": {
        "colab": {
          "base_uri": "https://localhost:8080/"
        },
        "id": "eOrrgNDqy6KD",
        "outputId": "0e99a9dd-f605-4ab9-cdc6-5fde240409e6"
      },
      "execution_count": null,
      "outputs": [
        {
          "output_type": "stream",
          "name": "stdout",
          "text": [
            "10\n",
            "30\n",
            "50\n",
            "60\n",
            "80\n",
            "90\n"
          ]
        }
      ]
    },
    {
      "cell_type": "code",
      "source": [
        "#using range function in a loop\n",
        "#range(start)\n",
        "#print number from 1 to 10\n",
        "#d = 10\n",
        "#i = 1\n",
        "#while i <= d:\n",
        "#  print(i)\n",
        "#  i = i + 1\n",
        "#note:- range function is used only in floor loop\n",
        "for i in range(11):\n",
        "  print(i)"
      ],
      "metadata": {
        "colab": {
          "base_uri": "https://localhost:8080/"
        },
        "id": "cOXfBA3Y0ngb",
        "outputId": "e248fd26-53de-4100-f09a-7a8de96016c9"
      },
      "execution_count": null,
      "outputs": [
        {
          "output_type": "stream",
          "name": "stdout",
          "text": [
            "0\n",
            "1\n",
            "2\n",
            "3\n",
            "4\n",
            "5\n",
            "6\n",
            "7\n",
            "8\n",
            "9\n",
            "10\n"
          ]
        }
      ]
    },
    {
      "cell_type": "code",
      "source": [
        "#use input() and print range of number as per user input?\n",
        "a = int(input(\"Enter the number: \"))\n",
        "for i in range(a+1):\n",
        "  print(i)\n",
        "\n"
      ],
      "metadata": {
        "colab": {
          "base_uri": "https://localhost:8080/"
        },
        "id": "CakzX8PU1j0W",
        "outputId": "c5cfa894-644d-4bb9-c7cf-e9bd22c502d2"
      },
      "execution_count": null,
      "outputs": [
        {
          "output_type": "stream",
          "name": "stdout",
          "text": [
            "Enter the number: 10\n",
            "0\n",
            "1\n",
            "2\n",
            "3\n",
            "4\n",
            "5\n",
            "6\n",
            "7\n",
            "8\n",
            "9\n",
            "10\n"
          ]
        }
      ]
    },
    {
      "cell_type": "code",
      "source": [
        "#if i want the number start from 2 and till user given input\n",
        "#syntax:-(start,end)\n",
        "a = int(input(\"Enter the number: \"))\n",
        "for i in range(2,a+1):\n",
        "  print(i)"
      ],
      "metadata": {
        "colab": {
          "base_uri": "https://localhost:8080/"
        },
        "id": "dnFqnQxK2uPt",
        "outputId": "b2a47479-6ddc-4877-a11c-11f791b000b4"
      },
      "execution_count": null,
      "outputs": [
        {
          "output_type": "stream",
          "name": "stdout",
          "text": [
            "Enter the number: 10\n",
            "2\n",
            "3\n",
            "4\n",
            "5\n",
            "6\n",
            "7\n",
            "8\n",
            "9\n",
            "10\n"
          ]
        }
      ]
    },
    {
      "cell_type": "code",
      "source": [
        "#i want to print range of 100 number but i want print all the even number upto 100\n",
        "#syntax:- (start,end,step)\n",
        "for i in range(1,101,2):\n",
        "  print(i)"
      ],
      "metadata": {
        "id": "jorpdsbN3LlW"
      },
      "execution_count": null,
      "outputs": []
    },
    {
      "cell_type": "code",
      "source": [
        "#i want to print odd number\n",
        "a = int(input(\"Enter the number: \"))\n",
        "for i in range(a):\n",
        "  if i % 2 != 0:\n",
        "    print(i)"
      ],
      "metadata": {
        "id": "NN_FSaig4NX1",
        "colab": {
          "base_uri": "https://localhost:8080/"
        },
        "outputId": "4d934c82-d499-456b-e447-7bdffe8441c2"
      },
      "execution_count": null,
      "outputs": [
        {
          "output_type": "stream",
          "name": "stdout",
          "text": [
            "Enter the number: 70\n",
            "1\n",
            "3\n",
            "5\n",
            "7\n",
            "9\n",
            "11\n",
            "13\n",
            "15\n",
            "17\n",
            "19\n",
            "21\n",
            "23\n",
            "25\n",
            "27\n",
            "29\n",
            "31\n",
            "33\n",
            "35\n",
            "37\n",
            "39\n",
            "41\n",
            "43\n",
            "45\n",
            "47\n",
            "49\n",
            "51\n",
            "53\n",
            "55\n",
            "57\n",
            "59\n",
            "61\n",
            "63\n",
            "65\n",
            "67\n",
            "69\n"
          ]
        }
      ]
    },
    {
      "cell_type": "code",
      "source": [
        "a = input(\"Enter the text: \")\n",
        "a_rev = a[::-1]\n",
        "print(a_rev)"
      ],
      "metadata": {
        "colab": {
          "base_uri": "https://localhost:8080/"
        },
        "id": "z9rAzbj_T3JF",
        "outputId": "604d07b6-f7fc-4a7e-cdd4-ec0f94d5ebae"
      },
      "execution_count": null,
      "outputs": [
        {
          "output_type": "stream",
          "name": "stdout",
          "text": [
            "Enter the text: madam\n",
            "madam\n"
          ]
        }
      ]
    },
    {
      "cell_type": "code",
      "source": [
        "a = int(input(\"Enter the number: \"))\n",
        "i = 0\n",
        "while i<a:\n",
        "     print(i ** 2)\n",
        "     i = i + 1\n"
      ],
      "metadata": {
        "colab": {
          "base_uri": "https://localhost:8080/"
        },
        "id": "3k13ySWyaanV",
        "outputId": "88495a42-2a0a-428f-830a-ce8cdc2112de"
      },
      "execution_count": null,
      "outputs": [
        {
          "output_type": "stream",
          "name": "stdout",
          "text": [
            "Enter the number: 5\n",
            "0\n",
            "1\n",
            "4\n",
            "9\n",
            "16\n"
          ]
        }
      ]
    },
    {
      "cell_type": "code",
      "source": [
        "mixed_string = 'Am I DreAmIng'\n",
        "print(mixed_string.lower())\n",
        "print(mixed_string.upper())\n"
      ],
      "metadata": {
        "colab": {
          "base_uri": "https://localhost:8080/"
        },
        "id": "mPrX6_hHJ8OS",
        "outputId": "126aed5e-1629-41ee-a67f-77fee29a8cc9"
      },
      "execution_count": null,
      "outputs": [
        {
          "output_type": "stream",
          "name": "stdout",
          "text": [
            "am i dreaming\n",
            "AM I DREAMING\n"
          ]
        }
      ]
    },
    {
      "cell_type": "code",
      "source": [
        "a = 0\n",
        "b = -10\n",
        "\n",
        "if a >= b:\n",
        "   print(\"a is greater or equal to b.\")\n",
        "if a == 0:\n",
        "   print(\"a is 0.\")\n",
        "if a <= 5:\n",
        "   print(\"a is not more than 5.\")\n",
        "print(\"Program ends\")"
      ],
      "metadata": {
        "colab": {
          "base_uri": "https://localhost:8080/"
        },
        "id": "5Cq21fYPYz5U",
        "outputId": "0572da8d-d6ab-4813-f43a-3b5dd9f91e97"
      },
      "execution_count": null,
      "outputs": [
        {
          "output_type": "stream",
          "name": "stdout",
          "text": [
            "a is greater or equal to b.\n",
            "a is 0.\n",
            "a is not more than 5.\n",
            "Program ends\n"
          ]
        }
      ]
    },
    {
      "cell_type": "code",
      "source": [
        "for i in range(3):\n",
        "    print(i, end=' ')\n",
        "else:\n",
        "    print(\"Loop ends\")"
      ],
      "metadata": {
        "colab": {
          "base_uri": "https://localhost:8080/"
        },
        "id": "fQnzX7R6d1R9",
        "outputId": "5b21d6fe-5539-43b6-e9d9-a1e175490cc9"
      },
      "execution_count": null,
      "outputs": [
        {
          "output_type": "stream",
          "name": "stdout",
          "text": [
            "0 1 2 Loop ends\n"
          ]
        }
      ]
    },
    {
      "cell_type": "markdown",
      "source": [
        "#collections(day5)"
      ],
      "metadata": {
        "id": "1Jlmu_uMRgDF"
      }
    },
    {
      "cell_type": "code",
      "source": [
        "#4 types of collections.\n",
        "#1.list\n",
        "#2.tuple\n",
        "#3.set\n",
        "#4.Dictionary\n",
        "#what is list?\n",
        "#1.List:- created with []\n",
        "#--ordered, allows duplicates, mutable(changable)\n",
        "l1 = [\"apple\",\"banana\",\"mango\",\"strawberry\",\"Blueberry\"]\n",
        "print(l1)\n",
        "print(type(l1))\n",
        "#what can be stored in a list?\n",
        "l2 = [\"true\",\"false\",\"true\",\"False\"]\n",
        "print(l2)\n",
        "print(type(l2))\n",
        "l3 = [1,2,3,4,5,6,7,8,9,10]\n",
        "print(l3)\n",
        "print(type(l3))"
      ],
      "metadata": {
        "colab": {
          "base_uri": "https://localhost:8080/"
        },
        "id": "5EmAT_V9RiNs",
        "outputId": "16991f4a-d23a-4ab6-8bee-31e3905b3dfc"
      },
      "execution_count": null,
      "outputs": [
        {
          "output_type": "stream",
          "name": "stdout",
          "text": [
            "['apple', 'banana', 'mango', 'strawberry', 'Blueberry']\n",
            "<class 'list'>\n",
            "['true', 'false', 'true', 'False']\n",
            "<class 'list'>\n",
            "[1, 2, 3, 4, 5, 6, 7, 8, 9, 10]\n",
            "<class 'list'>\n"
          ]
        }
      ]
    },
    {
      "cell_type": "code",
      "source": [
        "#print above l1,l2,l3 data types in singles with sep function\n",
        "print(type(l1),type(l2),type(l3), sep=\"\\n\")"
      ],
      "metadata": {
        "colab": {
          "base_uri": "https://localhost:8080/"
        },
        "id": "YxJcLax_T7BL",
        "outputId": "a0a8338b-853c-4709-b73f-cee854a7c889"
      },
      "execution_count": null,
      "outputs": [
        {
          "output_type": "stream",
          "name": "stdout",
          "text": [
            "<class 'list'>\n",
            "<class 'list'>\n",
            "<class 'list'>\n"
          ]
        }
      ]
    },
    {
      "cell_type": "code",
      "source": [
        "#list allows duplicate means prints duplicate values also\n",
        "l1 = [\"apple\",\"banana\",\"mango\",\"apple\"]\n",
        "print(l1)"
      ],
      "metadata": {
        "colab": {
          "base_uri": "https://localhost:8080/"
        },
        "id": "GALWzD1HUmx0",
        "outputId": "b6187e06-9368-4c9a-fcca-0208f37fb009"
      },
      "execution_count": null,
      "outputs": [
        {
          "output_type": "stream",
          "name": "stdout",
          "text": [
            "['apple', 'banana', 'mango', 'apple']\n"
          ]
        }
      ]
    },
    {
      "cell_type": "code",
      "source": [
        "#list are ordered.\n",
        "#what is ordered?\n",
        "#means we can access each and every element in list by using indexing position numbers\n",
        "l1 = [\"apple\",\"banana\",\"mango\",\"apples\",\"banana\",\"grapes\"]\n",
        "print(l1[0])\n",
        "print(l1[0:4])\n",
        "print(l1[0:4:2])"
      ],
      "metadata": {
        "colab": {
          "base_uri": "https://localhost:8080/"
        },
        "id": "BX6WmGQIU8OT",
        "outputId": "401c1ed5-6e87-4761-ea9a-23735d1c4557"
      },
      "execution_count": null,
      "outputs": [
        {
          "output_type": "stream",
          "name": "stdout",
          "text": [
            "apple\n",
            "['apple', 'banana', 'mango', 'apples']\n",
            "['apple', 'mango']\n"
          ]
        }
      ]
    },
    {
      "cell_type": "code",
      "source": [
        "#how you can say a collection is mutable?\n",
        "#1.swapping --> A--->B and B-->A\n",
        "#2.Adding ----> adding new items to the list\n",
        "#3.Removing --> removing items from the list"
      ],
      "metadata": {
        "id": "uZsqrwu1V4-U"
      },
      "execution_count": null,
      "outputs": []
    },
    {
      "cell_type": "code",
      "source": [
        "#1. swpping\n",
        "l1 = [\"apple\",\"banana\",\"mango\",\"apples\",\"banana\",\"grapes\"]\n",
        "l1[0]=\"orange\"\n",
        "print(l1)\n",
        "#swap the elements from index 1 to 4?\n",
        "l1 = [\"apple\",\"banana\",\"mango\",\"apples\",\"banana\",\"grapes\"]\n",
        "l1[1:3]=[\"blackberry\",\"pineapple\",\"watermelon\"]\n",
        "print(l1)"
      ],
      "metadata": {
        "colab": {
          "base_uri": "https://localhost:8080/"
        },
        "id": "grB9LkSAWuXp",
        "outputId": "d5d51c7e-3c06-4654-f25f-d46dd5aaed18"
      },
      "execution_count": null,
      "outputs": [
        {
          "output_type": "stream",
          "name": "stdout",
          "text": [
            "['orange', 'banana', 'mango', 'apples', 'banana', 'grapes']\n",
            "['apple', 'blackberry', 'pineapple', 'watermelon', 'apples', 'banana', 'grapes']\n"
          ]
        }
      ]
    },
    {
      "cell_type": "code",
      "source": [
        "#2.Append:- adding the extra element/ data at end of the list\n",
        "l1 = [\"apple\",\"banana\",\"mango\",\"apples\",\"banana\",\"grapes\"]\n",
        "l1.append(\"orange\")\n",
        "print(l1)\n",
        "#what is the default index position when you use append method?\n",
        "#end position\n",
        "#if i want to add more than 2 elements with append is it possible?\n",
        "#NO --> append can take one one argument\n"
      ],
      "metadata": {
        "colab": {
          "base_uri": "https://localhost:8080/"
        },
        "id": "5oGHrDNsXwpS",
        "outputId": "3856a104-0bd3-472a-ce5e-554e128c83e1"
      },
      "execution_count": null,
      "outputs": [
        {
          "output_type": "stream",
          "name": "stdout",
          "text": [
            "['apple', 'banana', 'mango', 'apples', 'banana', 'grapes', 'orange']\n"
          ]
        }
      ]
    },
    {
      "cell_type": "code",
      "source": [
        "#insert method:- inserting data at certain position\n",
        "#sntax:- (insert(index number,\"item name\"))\n",
        "l1 = [\"apple\",\"banana\",\"mango\",\"apples\",\"banana\",\"grapes\"]\n",
        "l1.insert(2,\"orange\")\n",
        "print(l1)"
      ],
      "metadata": {
        "colab": {
          "base_uri": "https://localhost:8080/"
        },
        "id": "2wRzxmb5Zfii",
        "outputId": "64a45640-a380-4e9a-f340-fbd93243a795"
      },
      "execution_count": null,
      "outputs": [
        {
          "output_type": "stream",
          "name": "stdout",
          "text": [
            "['apple', 'banana', 'orange', 'mango', 'apples', 'banana', 'grapes']\n"
          ]
        }
      ]
    },
    {
      "cell_type": "code",
      "source": [
        "#extend method:- add the items from the other collections\n",
        "l2 = [1,2,3,4,5,6,7,8,9,10]\n",
        "#l1.extend(l2)\n",
        "l1.append(l2)\n",
        "print(l1)"
      ],
      "metadata": {
        "colab": {
          "base_uri": "https://localhost:8080/"
        },
        "id": "g5c3IX2tGr3A",
        "outputId": "a39ff523-769c-49f9-c50c-a9898e381376"
      },
      "execution_count": null,
      "outputs": [
        {
          "output_type": "stream",
          "name": "stdout",
          "text": [
            "['apple', 'banana', 'mango', 'apple', [1, 2, 3, 4, 5, 6, 7, 8, 9, 10]]\n"
          ]
        }
      ]
    },
    {
      "cell_type": "code",
      "source": [
        "#i want to insert another collection at particular index?\n",
        "l3 = [\"python\",'java',\"c++\"]\n",
        "l1 = [\"apple\",\"banana\",\"mango\",\"watermelon\",\"kiwi\"]\n",
        "l1.insert(2,l3)\n",
        "print(l1)\n",
        "#access the 2nd position element and print only python?\n",
        "print(l1[2][0])"
      ],
      "metadata": {
        "colab": {
          "base_uri": "https://localhost:8080/"
        },
        "id": "yfO5is1nbBTL",
        "outputId": "4f65e994-6edb-4ddb-f2f3-8fbc8572a158"
      },
      "execution_count": null,
      "outputs": [
        {
          "output_type": "stream",
          "name": "stdout",
          "text": [
            "['apple', 'banana', ['python', 'java', 'c++'], 'mango', 'watermelon', 'kiwi']\n",
            "python\n"
          ]
        }
      ]
    },
    {
      "cell_type": "code",
      "source": [
        "#removing of elements in a list?\n",
        "#remove(ltem or index position number)\n",
        "l1 = [\"apple\",\"banana\",\"mango\",\"watermelon\",\"kiwi\"]\n",
        "l1.remove(\"banana\")\n",
        "print(l1)"
      ],
      "metadata": {
        "colab": {
          "base_uri": "https://localhost:8080/"
        },
        "id": "eeeipc9wcV78",
        "outputId": "bf4c3dbe-ba13-463f-ccba-0beebc65f28c"
      },
      "execution_count": null,
      "outputs": [
        {
          "output_type": "stream",
          "name": "stdout",
          "text": [
            "['apple', 'mango', 'watermelon', 'kiwi']\n"
          ]
        }
      ]
    },
    {
      "cell_type": "code",
      "source": [
        "#pop\n",
        "l1 = [\"apple\",\"banana\",\"mango\",\"watermelon\",\"kiwi\"]"
      ],
      "metadata": {
        "id": "ff8D14PTembr"
      },
      "execution_count": null,
      "outputs": []
    },
    {
      "cell_type": "code",
      "source": [
        "#pop:-  pop(index) ---> you should have to have only index number\n",
        "l1.pop(2)\n",
        "print(l1)"
      ],
      "metadata": {
        "colab": {
          "base_uri": "https://localhost:8080/"
        },
        "id": "Fu-WrJqQdRe0",
        "outputId": "497d8468-e377-4fef-b889-5c3e1fa8c32b"
      },
      "execution_count": null,
      "outputs": [
        {
          "output_type": "stream",
          "name": "stdout",
          "text": [
            "['apple', 'banana']\n"
          ]
        }
      ]
    },
    {
      "cell_type": "code",
      "source": [
        "#3.delete\n",
        "del l1[2]\n",
        "print(l1)"
      ],
      "metadata": {
        "colab": {
          "base_uri": "https://localhost:8080/"
        },
        "id": "0Pnn8-uKd-P5",
        "outputId": "bcad7808-0237-4161-af0b-2c3f426a4d80"
      },
      "execution_count": null,
      "outputs": [
        {
          "output_type": "stream",
          "name": "stdout",
          "text": [
            "['apple', 'banana']\n"
          ]
        }
      ]
    },
    {
      "cell_type": "code",
      "source": [
        "#4.clear\n",
        "l1 = [\"apple\",\"banana\",\"mango\",\"watermelon\",\"kiwi\",\"grapes\",\"blueberry\"]\n",
        "l1.clear()\n",
        "print(l1)"
      ],
      "metadata": {
        "colab": {
          "base_uri": "https://localhost:8080/"
        },
        "id": "NIaSyZvUeuu8",
        "outputId": "60f0750c-79cf-4045-957b-4f76687d9cfb"
      },
      "execution_count": null,
      "outputs": [
        {
          "output_type": "stream",
          "name": "stdout",
          "text": [
            "[]\n"
          ]
        }
      ]
    },
    {
      "cell_type": "markdown",
      "source": [
        "#2.Tuple"
      ],
      "metadata": {
        "id": "QlV7VkzLhAfY"
      }
    },
    {
      "cell_type": "code",
      "source": [
        "#Tuple are ordered, immutable, duplicates\n",
        "#tuples created by ()\n",
        "t1 = (\"apple\",\"banana\",\"mango\",\"watermelon\",\"kiwi\",\"grapes\")\n",
        "print(t1)\n",
        "print(type(t1))"
      ],
      "metadata": {
        "colab": {
          "base_uri": "https://localhost:8080/"
        },
        "id": "2V3gKBrRgwzq",
        "outputId": "ed2c155d-d1c3-44ec-f454-7f25310f1659"
      },
      "execution_count": null,
      "outputs": [
        {
          "output_type": "stream",
          "name": "stdout",
          "text": [
            "('apple', 'banana', 'mango', 'watermelon', 'kiwi')\n",
            "<class 'tuple'>\n"
          ]
        }
      ]
    },
    {
      "cell_type": "code",
      "source": [
        "#allow duplicates\n",
        "t1 = (\"apple\",\"banana\",\"mango\",\"watermelon\",\"kiwi\",\"grapes\",\"apple\",\"banana\")\n",
        "print(t1)"
      ],
      "metadata": {
        "colab": {
          "base_uri": "https://localhost:8080/"
        },
        "id": "LytSNF5EiMxf",
        "outputId": "adb6edfb-19e2-4b7e-ce85-1e833500170c"
      },
      "execution_count": null,
      "outputs": [
        {
          "output_type": "stream",
          "name": "stdout",
          "text": [
            "('apple', 'banana', 'mango', 'watermelon', 'kiwi', 'grapes', 'apple', 'banana')\n"
          ]
        }
      ]
    },
    {
      "cell_type": "code",
      "source": [
        "#tuples are ordered\n",
        "t1 = (\"apple\",\"banana\",\"mango\",\"strawberry\",\"blueberry\",\"grapes\")\n",
        "print(t1[1:5])\n",
        "#print even position of above collection\n",
        "#print reverse of above cillection\n",
        "print(t1[::2])\n",
        "print(t1[::-1])"
      ],
      "metadata": {
        "colab": {
          "base_uri": "https://localhost:8080/"
        },
        "id": "01mekssEiXX7",
        "outputId": "fc67766e-ea26-4999-be4d-a432f3f7a365"
      },
      "execution_count": null,
      "outputs": [
        {
          "output_type": "stream",
          "name": "stdout",
          "text": [
            "('banana', 'mango', 'strawberry', 'blueberry')\n",
            "('apple', 'mango', 'blueberry')\n",
            "('grapes', 'blueberry', 'strawberry', 'mango', 'banana', 'apple')\n"
          ]
        }
      ]
    },
    {
      "cell_type": "code",
      "source": [
        "#tuple is immutable\n",
        "t1 = (\"apple\",\"banana\",\"mango\",\"watermelon\",\"kiwi\",\"grapes\")\n",
        "t1[0]=\"orange\"\n",
        "print(t1)"
      ],
      "metadata": {
        "id": "IuiYT61ejpxV"
      },
      "execution_count": null,
      "outputs": []
    },
    {
      "cell_type": "code",
      "source": [
        "#how can you add new items to the tuples?\n",
        "#what is difference between list and tuples?\n",
        "#when i should use list and when i should use tuple?"
      ],
      "metadata": {
        "id": "M_0Cjoi_j7XQ"
      },
      "execution_count": null,
      "outputs": []
    },
    {
      "cell_type": "markdown",
      "source": [
        "#3.set"
      ],
      "metadata": {
        "id": "HNEki9pYkwra"
      }
    },
    {
      "cell_type": "code",
      "source": [
        "#set --> {}\n",
        "#unordered, no duplicates, immutable\n",
        "s1 = {\"apple\",\"banana\",\"mango\",\"watermelon\",\"kiwi\",\"grapes\",\"apple\"}\n",
        "print(s1)\n",
        "print(type(s1))"
      ],
      "metadata": {
        "colab": {
          "base_uri": "https://localhost:8080/"
        },
        "id": "AUsFcRN3kv5N",
        "outputId": "fab7c0d2-fef6-41d6-a134-0685e5c9a6f7"
      },
      "execution_count": null,
      "outputs": [
        {
          "output_type": "stream",
          "name": "stdout",
          "text": [
            "{'mango', 'kiwi', 'watermelon', 'apple', 'grapes', 'banana'}\n",
            "<class 'set'>\n"
          ]
        }
      ]
    },
    {
      "cell_type": "code",
      "source": [
        "#set are unordered\n",
        "print(s1[0])"
      ],
      "metadata": {
        "id": "55wE0QNOlm09"
      },
      "execution_count": null,
      "outputs": []
    },
    {
      "cell_type": "code",
      "source": [
        "#why set are immutable?\n",
        "#in set we can add new elements/items and we can remove the items but we cannot swap(replace)items beacuse sets does not have"
      ],
      "metadata": {
        "id": "1ZOKjjygltZW"
      },
      "execution_count": null,
      "outputs": []
    },
    {
      "cell_type": "code",
      "source": [
        "#add items into set\n",
        "#1.add(item name)\n",
        "s1 = {\"dog\",\"horse\",\"hen\",\"elephant\"}\n",
        "s1.add(\"cow\")\n",
        "print(s1)"
      ],
      "metadata": {
        "colab": {
          "base_uri": "https://localhost:8080/"
        },
        "id": "7B87ZNUIm_Jb",
        "outputId": "835ff0a9-4b02-4444-be9c-a5bd0a985046"
      },
      "execution_count": null,
      "outputs": [
        {
          "output_type": "stream",
          "name": "stdout",
          "text": [
            "{'dog', 'hen', 'elephant', 'cow', 'horse'}\n"
          ]
        }
      ]
    },
    {
      "cell_type": "code",
      "source": [
        "#update method:- we can update other collection values in the taken set\n",
        "l = [1,2,3,4,5,6]\n",
        "s1.update(l)\n",
        "print(s1)"
      ],
      "metadata": {
        "colab": {
          "base_uri": "https://localhost:8080/"
        },
        "id": "dyunH3qhnXoG",
        "outputId": "b08584de-da54-42c6-9880-6e0ce2b860b4"
      },
      "execution_count": null,
      "outputs": [
        {
          "output_type": "stream",
          "name": "stdout",
          "text": [
            "{'dog', 'hen', 1, 'elephant', 2, 3, 4, 5, 6, 'cow', 'horse'}\n"
          ]
        }
      ]
    },
    {
      "cell_type": "code",
      "source": [
        "#1.removing the items\n",
        "s1.remove(\"elephant\")\n",
        "print(s1)"
      ],
      "metadata": {
        "colab": {
          "base_uri": "https://localhost:8080/"
        },
        "id": "y8xHcdd9n7KA",
        "outputId": "3cec7511-b853-41da-ddbd-6319e7e442f0"
      },
      "execution_count": null,
      "outputs": [
        {
          "output_type": "stream",
          "name": "stdout",
          "text": [
            "{'dog', 'hen', 1, 2, 3, 4, 5, 6, 'cow', 'horse'}\n"
          ]
        }
      ]
    },
    {
      "cell_type": "code",
      "source": [
        "#discard method\n",
        "s1.discard(\"hen\")\n",
        "print(s1)"
      ],
      "metadata": {
        "colab": {
          "base_uri": "https://localhost:8080/"
        },
        "id": "3dyNkNB5oTL0",
        "outputId": "62e900f3-991a-402f-e15a-f08c51efd1b2"
      },
      "execution_count": null,
      "outputs": [
        {
          "output_type": "stream",
          "name": "stdout",
          "text": [
            "{'dog', 1, 2, 3, 4, 5, 6, 'cow', 'horse'}\n"
          ]
        }
      ]
    },
    {
      "cell_type": "code",
      "source": [
        "#pop method\n",
        "s1.pop()\n",
        "print(s1)"
      ],
      "metadata": {
        "colab": {
          "base_uri": "https://localhost:8080/"
        },
        "id": "ZG61f1xOokKV",
        "outputId": "26b73ded-d308-443c-8a11-ee13015c5da5"
      },
      "execution_count": null,
      "outputs": [
        {
          "output_type": "stream",
          "name": "stdout",
          "text": [
            "{2, 3, 4, 5, 6, 'cow', 'horse'}\n"
          ]
        }
      ]
    },
    {
      "cell_type": "code",
      "source": [
        "#delete\n",
        "del s1\n",
        "print(s1)"
      ],
      "metadata": {
        "id": "mgh5Mvd3ovc0"
      },
      "execution_count": null,
      "outputs": []
    },
    {
      "cell_type": "code",
      "source": [
        "#clear\n",
        "s2 = {1,2,3,4,5,6,7,8,9,10}\n",
        "s2.clear()\n",
        "print(s2)"
      ],
      "metadata": {
        "colab": {
          "base_uri": "https://localhost:8080/"
        },
        "id": "a4NXECv4o5gW",
        "outputId": "a2ee31c3-9c38-44e7-b464-0de4d0ecedf7"
      },
      "execution_count": null,
      "outputs": [
        {
          "output_type": "stream",
          "name": "stdout",
          "text": [
            "set()\n"
          ]
        }
      ]
    },
    {
      "cell_type": "code",
      "source": [
        "#what is the main reason we use sets?\n",
        "s1 = {\"a\",\"b\",\"c\",\"d\"}\n",
        "s2 = {\"d\",\"e\",\"f\",\"g\"}\n",
        "s3 = s1.intersection(s2)\n",
        "print(s3)"
      ],
      "metadata": {
        "colab": {
          "base_uri": "https://localhost:8080/"
        },
        "id": "0vuAGozIpHjL",
        "outputId": "da716ecd-b8f6-4fdc-8390-02e034451c2c"
      },
      "execution_count": null,
      "outputs": [
        {
          "output_type": "stream",
          "name": "stdout",
          "text": [
            "{'d'}\n"
          ]
        }
      ]
    },
    {
      "cell_type": "code",
      "source": [
        "s3 = s1.union(s2)\n",
        "print(s3)"
      ],
      "metadata": {
        "colab": {
          "base_uri": "https://localhost:8080/"
        },
        "id": "pPZjpWXopqW7",
        "outputId": "e9bfb723-7637-48b6-b512-0177fe758b16"
      },
      "execution_count": null,
      "outputs": [
        {
          "output_type": "stream",
          "name": "stdout",
          "text": [
            "{'c', 'e', 'f', 'b', 'g', 'a', 'd'}\n"
          ]
        }
      ]
    },
    {
      "cell_type": "markdown",
      "source": [
        "#Heterogenous data and homogenous data\n",
        "\n"
      ],
      "metadata": {
        "id": "C1vvumW3bvbg"
      }
    },
    {
      "cell_type": "markdown",
      "source": [
        "#Dictionary"
      ],
      "metadata": {
        "id": "f386OrMIcJmk"
      }
    },
    {
      "cell_type": "code",
      "source": [
        "#where we can store our items in a dictionary?\n",
        "#A) key:values pairs\n",
        "#B)dictionary--> {}\n",
        "#-->unordered, it won`t allow duplicates, mutable"
      ],
      "metadata": {
        "id": "JZqLVdEfcCrY"
      },
      "execution_count": null,
      "outputs": []
    },
    {
      "cell_type": "code",
      "source": [
        "d1 = {\n",
        "    \"name\":\"python\",        #name--key\n",
        "    \"last_name\":\"programming\",\n",
        "    \"age\":29,\n",
        "    \"module\":True\n",
        "}\n",
        "print(d1)\n",
        "print(type(d1))"
      ],
      "metadata": {
        "colab": {
          "base_uri": "https://localhost:8080/"
        },
        "id": "ro8QK2gdcxzd",
        "outputId": "2cfe9b7c-6d1f-40a9-f3b5-4ca07e99c513"
      },
      "execution_count": null,
      "outputs": [
        {
          "output_type": "stream",
          "name": "stdout",
          "text": [
            "{'name': 'python', 'last_name': 'programming', 'age': 29, 'module': True}\n",
            "<class 'dict'>\n"
          ]
        }
      ]
    },
    {
      "cell_type": "code",
      "source": [
        "#how can we print keys and values separetly?\n",
        "print(d1.keys())\n",
        "print(d1.values())"
      ],
      "metadata": {
        "colab": {
          "base_uri": "https://localhost:8080/"
        },
        "id": "1IURMBd6eEby",
        "outputId": "e0f2963b-d20f-4aca-a646-1d7b42b5db85"
      },
      "execution_count": null,
      "outputs": [
        {
          "output_type": "stream",
          "name": "stdout",
          "text": [
            "dict_keys(['name', 'last_name', 'age', 'module'])\n",
            "dict_values(['python', 'programming', 29, True])\n"
          ]
        }
      ]
    },
    {
      "cell_type": "code",
      "source": [
        "#print each item()\n",
        "print(d1.items())"
      ],
      "metadata": {
        "colab": {
          "base_uri": "https://localhost:8080/"
        },
        "id": "nsmZ36OOefD_",
        "outputId": "5b03e1eb-8b8b-430a-a9aa-279bb8bffdc4"
      },
      "execution_count": null,
      "outputs": [
        {
          "output_type": "stream",
          "name": "stdout",
          "text": [
            "dict_items([('name', 'python'), ('last_name', 'programming'), ('age', 29), ('module', True)])\n"
          ]
        }
      ]
    },
    {
      "cell_type": "code",
      "source": [
        "#python is an interpreted language?\n",
        "d1 = {\n",
        "    \"name\":\"python\",       #python is interpreted language check code line by line\n",
        "    \"last_name\":\"programming\",\n",
        "    \"age\":29,\n",
        "    \"module\":True,\n",
        "    \"name\":\"java\",\n",
        "    \"age\":50\n",
        "}\n",
        "print(d1)"
      ],
      "metadata": {
        "colab": {
          "base_uri": "https://localhost:8080/"
        },
        "id": "zFou0G2ge4Yh",
        "outputId": "efd5b3d1-4704-4406-8f39-3a76350c9902"
      },
      "execution_count": null,
      "outputs": [
        {
          "output_type": "stream",
          "name": "stdout",
          "text": [
            "{'name': 'java', 'last_name': 'programming', 'age': 50, 'module': True}\n"
          ]
        }
      ]
    },
    {
      "cell_type": "code",
      "source": [
        "#find lenght of dict?\n",
        "print(len(d1))"
      ],
      "metadata": {
        "colab": {
          "base_uri": "https://localhost:8080/"
        },
        "id": "6nPuoQtafsLa",
        "outputId": "cdbc5874-f448-42f1-df29-00778e3b69df"
      },
      "execution_count": null,
      "outputs": [
        {
          "output_type": "stream",
          "name": "stdout",
          "text": [
            "4\n"
          ]
        }
      ]
    },
    {
      "cell_type": "code",
      "source": [
        "#dictionary is an unoredered?\n",
        "print(d1[0])\n",
        "#note:- from the above example from the dictionary"
      ],
      "metadata": {
        "id": "Y0gyXqCOf6gI"
      },
      "execution_count": null,
      "outputs": []
    },
    {
      "cell_type": "code",
      "source": [
        "#how can we access elements from the dictionary?\n",
        "#by using keys we can access the elements from dictionary\n",
        "print(d1[\"name\"])\n",
        "print(d1.get(\"name\"))"
      ],
      "metadata": {
        "colab": {
          "base_uri": "https://localhost:8080/"
        },
        "id": "w2BhimgHgPcW",
        "outputId": "e0dfe391-9ec3-4a3d-8994-86f3f761e3db"
      },
      "execution_count": null,
      "outputs": [
        {
          "output_type": "stream",
          "name": "stdout",
          "text": [
            "java\n",
            "java\n"
          ]
        }
      ]
    },
    {
      "cell_type": "code",
      "source": [
        "#how can we change values to the particular key?\n",
        "d1[\"name\"] = \"c++\"\n",
        "print(d1)"
      ],
      "metadata": {
        "colab": {
          "base_uri": "https://localhost:8080/"
        },
        "id": "y6Oe7FrMgxfX",
        "outputId": "86b9b670-cf25-4443-8c39-2b7ed515687c"
      },
      "execution_count": null,
      "outputs": [
        {
          "output_type": "stream",
          "name": "stdout",
          "text": [
            "{'name': 'c++', 'last_name': 'programming', 'age': 50, 'module': True}\n"
          ]
        }
      ]
    },
    {
      "cell_type": "code",
      "source": [
        "#update is also similar method we are using to update/replace values in dictionary\n",
        "d1.update({'module':\"yes\"})\n",
        "print(d1)"
      ],
      "metadata": {
        "colab": {
          "base_uri": "https://localhost:8080/"
        },
        "id": "eV6QtJcuhTCn",
        "outputId": "a1dfdbd1-5677-4c7e-e978-da2d50b024c1"
      },
      "execution_count": null,
      "outputs": [
        {
          "output_type": "stream",
          "name": "stdout",
          "text": [
            "{'name': 'c++', 'last_name': 'programming', 'age': 50, 'module': 'yes'}\n"
          ]
        }
      ]
    },
    {
      "cell_type": "code",
      "source": [
        "#how can i add new elements into the dictionary\n",
        "d1[\"type\"] = \"Dynamically typed\"\n",
        "print(d1)\n",
        "#if the key is existed the values are replaced"
      ],
      "metadata": {
        "colab": {
          "base_uri": "https://localhost:8080/"
        },
        "id": "V2RnJH_Ah5gu",
        "outputId": "53f3b1ec-e3ca-4264-d018-5220cd40d488"
      },
      "execution_count": null,
      "outputs": [
        {
          "output_type": "stream",
          "name": "stdout",
          "text": [
            "{'name': 'c++', 'last_name': 'programming', 'age': 50, 'module': 'yes', 'type': 'Dynamically typed'}\n"
          ]
        }
      ]
    },
    {
      "cell_type": "code",
      "source": [
        "d1[\"typed\"] = \"dynamically type\"\n",
        "print(d1)\n",
        "#Note:- if the input keys are present the values get updayed if it is not present new key:values pairs added"
      ],
      "metadata": {
        "colab": {
          "base_uri": "https://localhost:8080/"
        },
        "id": "6RQZRh7ni5uk",
        "outputId": "fed2a5fb-642d-4776-b25f-097ce8ab9726"
      },
      "execution_count": null,
      "outputs": [
        {
          "output_type": "stream",
          "name": "stdout",
          "text": [
            "{'name': 'c++', 'last_name': 'programming', 'age': 50, 'module': 'yes', 'type': 'Dynamically typed', 'typed': 'dynamically type'}\n"
          ]
        }
      ]
    },
    {
      "cell_type": "code",
      "source": [
        "#how can we remove the element in dict?\n",
        "#by using pop\n",
        "d1.pop(\"type\")\n",
        "print(d1)"
      ],
      "metadata": {
        "colab": {
          "base_uri": "https://localhost:8080/"
        },
        "id": "8bCaaWFAkXbA",
        "outputId": "9fd2ee0a-aa72-4e37-ef19-044ce7a28d8a"
      },
      "execution_count": null,
      "outputs": [
        {
          "output_type": "stream",
          "name": "stdout",
          "text": [
            "{'name': 'c++', 'last_name': 'programming', 'age': 50, 'module': 'yes'}\n"
          ]
        }
      ]
    },
    {
      "cell_type": "code",
      "source": [
        "d1 = {\n",
        "    \"name\":[\"python\",\"c++\",\"java\"],\n",
        "    \"last_name\":\"programming\",\n",
        "    \"age\":29,\n",
        "    \"module\":True\n",
        "}\n",
        "print(d1)"
      ],
      "metadata": {
        "colab": {
          "base_uri": "https://localhost:8080/"
        },
        "id": "hCK49ppNk598",
        "outputId": "67af1256-0f00-4995-f100-e2005d03b303"
      },
      "execution_count": null,
      "outputs": [
        {
          "output_type": "stream",
          "name": "stdout",
          "text": [
            "{'name': ['python', 'c++', 'java'], 'last_name': 'programming', 'age': 29, 'module': True}\n"
          ]
        }
      ]
    },
    {
      "cell_type": "code",
      "source": [
        "print(d1[\"name\"][1])"
      ],
      "metadata": {
        "colab": {
          "base_uri": "https://localhost:8080/"
        },
        "id": "mdrbY1bQlOQW",
        "outputId": "8910537a-3173-44f6-d9fc-d98ca6c2036d"
      },
      "execution_count": null,
      "outputs": [
        {
          "output_type": "stream",
          "name": "stdout",
          "text": [
            "c++\n"
          ]
        }
      ]
    },
    {
      "cell_type": "code",
      "source": [
        "d1[\"name\"][1]=\"c\"\n",
        "print(d1)"
      ],
      "metadata": {
        "colab": {
          "base_uri": "https://localhost:8080/"
        },
        "id": "w_x8zcnNlYME",
        "outputId": "a4b0f6b4-48e1-494a-b7a8-94745752bf52"
      },
      "execution_count": null,
      "outputs": [
        {
          "output_type": "stream",
          "name": "stdout",
          "text": [
            "{'name': ['python', 'c', 'java'], 'last_name': 'programming', 'age': 29, 'module': True}\n"
          ]
        }
      ]
    },
    {
      "cell_type": "code",
      "source": [
        "#add new items into the list in name?\n",
        "d1[\"name\"].append(\"R\")\n",
        "print(d1)"
      ],
      "metadata": {
        "colab": {
          "base_uri": "https://localhost:8080/"
        },
        "id": "Bd4EvCsKleL0",
        "outputId": "345e422b-1193-46d2-f28d-94e581242134"
      },
      "execution_count": null,
      "outputs": [
        {
          "output_type": "stream",
          "name": "stdout",
          "text": [
            "{'name': ['python', 'c', 'java', 'R'], 'last_name': 'programming', 'age': 29, 'module': True}\n"
          ]
        }
      ]
    },
    {
      "cell_type": "code",
      "source": [
        "print(d1[\"name\"][3])"
      ],
      "metadata": {
        "colab": {
          "base_uri": "https://localhost:8080/"
        },
        "id": "o8FZ0Mwvl2fg",
        "outputId": "f33f498f-9a8a-48ad-f67b-c0455062b4b5"
      },
      "execution_count": null,
      "outputs": [
        {
          "output_type": "stream",
          "name": "stdout",
          "text": [
            "R\n"
          ]
        }
      ]
    },
    {
      "cell_type": "code",
      "source": [
        "#delete java from the name?\n",
        "del d1[\"name\"][2]\n",
        "print(d1)"
      ],
      "metadata": {
        "colab": {
          "base_uri": "https://localhost:8080/"
        },
        "id": "zhfpAK4TmCdu",
        "outputId": "6862a022-631a-4856-c898-da144cb366df"
      },
      "execution_count": null,
      "outputs": [
        {
          "output_type": "stream",
          "name": "stdout",
          "text": [
            "{'name': ['python', 'c', 'R'], 'last_name': 'programming', 'age': 29, 'module': True}\n"
          ]
        }
      ]
    },
    {
      "cell_type": "code",
      "source": [
        "#clear entire dictionary\n",
        "d1.clear()\n",
        "print(d1)"
      ],
      "metadata": {
        "colab": {
          "base_uri": "https://localhost:8080/"
        },
        "id": "YosZKqSvmkIR",
        "outputId": "eb20a5a6-239f-434f-c471-1289b1eff475"
      },
      "execution_count": null,
      "outputs": [
        {
          "output_type": "stream",
          "name": "stdout",
          "text": [
            "{}\n"
          ]
        }
      ]
    },
    {
      "cell_type": "code",
      "source": [
        "#working with loops in dictionary\n",
        "d3 = {\n",
        "    \"name\":[\"python\",\"c\",\"java\"],\n",
        "    \"last_name\":\"programming\",\n",
        "    \"age\":29,\n",
        "    \"module\":True\n",
        "}\n",
        "#print keys() dict by using loops\n",
        "for i in d3.keys():\n",
        "  print(i)"
      ],
      "metadata": {
        "colab": {
          "base_uri": "https://localhost:8080/"
        },
        "id": "PtFaai94nFpA",
        "outputId": "3c9a4d6b-03a6-4593-d133-07bc79cbcf3f"
      },
      "execution_count": null,
      "outputs": [
        {
          "output_type": "stream",
          "name": "stdout",
          "text": [
            "name\n",
            "last_name\n",
            "age\n",
            "module\n"
          ]
        }
      ]
    },
    {
      "cell_type": "code",
      "source": [
        "for i in d3.values():\n",
        "  print(i)"
      ],
      "metadata": {
        "colab": {
          "base_uri": "https://localhost:8080/"
        },
        "id": "Ah8EunkRoCNB",
        "outputId": "bf53a5a5-e0ee-4b8e-b2fa-be1b2a978f2d"
      },
      "execution_count": null,
      "outputs": [
        {
          "output_type": "stream",
          "name": "stdout",
          "text": [
            "['python', 'c', 'java']\n",
            "programming\n",
            "29\n",
            "True\n"
          ]
        }
      ]
    },
    {
      "cell_type": "code",
      "source": [
        "#by using for loop print key value pair in separate lines\n",
        "#for i,j in d3.items():\n",
        "#  print(i,j)\n",
        "#i want o/p in dict format?\n",
        "for x in d3.keys():\n",
        "  print(f'{x}:{d3[x]}')"
      ],
      "metadata": {
        "colab": {
          "base_uri": "https://localhost:8080/"
        },
        "id": "-yUOOg3boFO7",
        "outputId": "57fe7857-a896-4ed8-fe5b-2727011c9962"
      },
      "execution_count": null,
      "outputs": [
        {
          "output_type": "stream",
          "name": "stdout",
          "text": [
            "name:['python', 'c', 'java']\n",
            "last_name:programming\n",
            "age:29\n",
            "module:True\n"
          ]
        }
      ]
    },
    {
      "cell_type": "code",
      "source": [
        "#dict-->{}-->unordered,key:value pairs,won`t allow duplicates,where values are changable and keys are unchangable\n",
        "#list-->[]-->ordered,allows the duplicates, mutable\n",
        "#tuples-->()-->ordered,allow the duplicates, immutable\n",
        "#sets-->{}-->unordered,it won`t allow duplicates, immutable"
      ],
      "metadata": {
        "id": "b11Qn_Mzp69f"
      },
      "execution_count": null,
      "outputs": []
    },
    {
      "cell_type": "markdown",
      "source": [
        "#ESCAPE CHARACTERS"
      ],
      "metadata": {
        "id": "-UUJVFvpsJEA"
      }
    },
    {
      "cell_type": "code",
      "source": [
        "#escape characters are used to print the illegal characters.\n",
        "print(\"dwyane \\\"The Rock\\\" Kohnson\")\n",
        "#Note:- give the backward slash before illegel characters"
      ],
      "metadata": {
        "colab": {
          "base_uri": "https://localhost:8080/"
        },
        "id": "XfP1eiVCsOID",
        "outputId": "ea10a012-3361-415f-bee8-a025bcad0fef"
      },
      "execution_count": null,
      "outputs": [
        {
          "output_type": "stream",
          "name": "stdout",
          "text": [
            "dwyane \"The Rock\" Kohnson\n"
          ]
        }
      ]
    },
    {
      "cell_type": "markdown",
      "source": [
        "#Functions"
      ],
      "metadata": {
        "id": "S_XBr_g_2jRV"
      }
    },
    {
      "cell_type": "code",
      "source": [
        "#Function:- is nothing a block of code which can runs when you call it, where you want to reuse\n",
        "#How can we create a function?\n",
        "#A)\"def\" is the key word\n",
        "#lets create a function\n",
        "def f1():\n",
        "  print(\"Hello World\")\n",
        "  print(\"THis is my first function\")\n",
        "  print(\"===========================\")\n",
        "f1()"
      ],
      "metadata": {
        "colab": {
          "base_uri": "https://localhost:8080/"
        },
        "id": "s3U8UlKF6B4l",
        "outputId": "7cbb1f56-50f4-4f86-b24f-48324d394f2b"
      },
      "execution_count": null,
      "outputs": [
        {
          "output_type": "stream",
          "name": "stdout",
          "text": [
            "Hello World\n",
            "THis is my first function\n",
            "===========================\n"
          ]
        }
      ]
    },
    {
      "cell_type": "code",
      "source": [
        "#How to call the function\n",
        "f1()"
      ],
      "metadata": {
        "colab": {
          "base_uri": "https://localhost:8080/"
        },
        "id": "x5I1bVUy-fDT",
        "outputId": "4ff75151-5258-48bb-a3c0-1137bf1f7bb6"
      },
      "execution_count": null,
      "outputs": [
        {
          "output_type": "stream",
          "name": "stdout",
          "text": [
            "Hello World\n",
            "THis is my first function\n",
            "===========================\n"
          ]
        }
      ]
    },
    {
      "cell_type": "code",
      "source": [
        "#A function can seen in parameters and arguments\n",
        "\n",
        "def f2(name): #name-- parameter\n",
        "  print(f\"hello {name}\")\n",
        "#call this function\n",
        "f2(\"python\")  #python--aargument"
      ],
      "metadata": {
        "colab": {
          "base_uri": "https://localhost:8080/"
        },
        "id": "h_SMNDD8_S6V",
        "outputId": "220c4311-a827-44b6-c952-3ce6971f3594"
      },
      "execution_count": null,
      "outputs": [
        {
          "output_type": "stream",
          "name": "stdout",
          "text": [
            "hello python\n"
          ]
        }
      ]
    },
    {
      "cell_type": "code",
      "source": [
        "#what is parameter?\n",
        "#defining a variable when you create a function is knows as parameter\n",
        "#what is argument?\n",
        "#The value your given to the variable/parameter when you call the function\n",
        "#why we are using arguments and parameters?\n",
        "#Both are used to pass some information"
      ],
      "metadata": {
        "id": "nA6EmlolAZK1"
      },
      "execution_count": null,
      "outputs": []
    },
    {
      "cell_type": "code",
      "source": [
        "#How many arguments do we have?\n",
        "def f2(name): #name-- parameter\n",
        "  print(f\"hello {name}\")\n",
        "#call this function\n",
        "f2(\"python\")  #python--aargument\n",
        "#one argument here"
      ],
      "metadata": {
        "colab": {
          "base_uri": "https://localhost:8080/"
        },
        "id": "NVqjmVwVCGC-",
        "outputId": "2ef1215d-9b38-4a18-b0b8-ba2a270a409c"
      },
      "execution_count": null,
      "outputs": [
        {
          "output_type": "stream",
          "name": "stdout",
          "text": [
            "hello python\n"
          ]
        }
      ]
    },
    {
      "cell_type": "code",
      "source": [
        "#if i give two parameters and arguments\n",
        "def f3(name,age):\n",
        "  print(f\"hello {name}, you age is {age}\")\n",
        "f3(\"python\", 29)"
      ],
      "metadata": {
        "colab": {
          "base_uri": "https://localhost:8080/"
        },
        "id": "-ixCazd5CkyL",
        "outputId": "6bb18cd2-440f-4be4-9c49-e7969749eced"
      },
      "execution_count": null,
      "outputs": [
        {
          "output_type": "stream",
          "name": "stdout",
          "text": [
            "hello python, you age is 29\n"
          ]
        }
      ]
    },
    {
      "cell_type": "code",
      "source": [
        "#use the default parameter to not rise the error when you are calling the function\n",
        "def f2(name = \"user\"):  #giving default parameter = \"user\" you can use the specific value\n",
        "  print(f\"hello {name}\")\n",
        "#call this function\n",
        "f2()"
      ],
      "metadata": {
        "colab": {
          "base_uri": "https://localhost:8080/"
        },
        "id": "0_zDaOt1DbmS",
        "outputId": "9c41dbb0-c262-45bc-aacc-ad452127b003"
      },
      "execution_count": null,
      "outputs": [
        {
          "output_type": "stream",
          "name": "stdout",
          "text": [
            "hello user\n"
          ]
        }
      ]
    },
    {
      "cell_type": "code",
      "source": [
        "#what do i do when i dont know how many arguments do i need to pass?\n",
        "def f2(*name):\n",
        "  for i in name:\n",
        "      print(f\"hello {i}\")\n",
        "#call this function\n",
        "f2(\"python\",\"java\",\"c++\",\"c\")"
      ],
      "metadata": {
        "colab": {
          "base_uri": "https://localhost:8080/"
        },
        "id": "kejtwI_OEisp",
        "outputId": "32106de0-00d5-4458-d556-d0c6dfa54bb1"
      },
      "execution_count": null,
      "outputs": [
        {
          "output_type": "stream",
          "name": "stdout",
          "text": [
            "hello python\n",
            "hello java\n",
            "hello c++\n",
            "hello c\n"
          ]
        }
      ]
    },
    {
      "cell_type": "code",
      "source": [
        "#When i don`t know how many parameters do i have to pass?\n",
        "def f4(**name):\n",
        "  for x,y in name.items():\n",
        "    print(f\"hello {y}!\")\n",
        "f4(name = \"python\", last_name = \"programming\")"
      ],
      "metadata": {
        "colab": {
          "base_uri": "https://localhost:8080/"
        },
        "id": "14Jpdz8gFNJE",
        "outputId": "63c0bdee-84da-4f27-ca15-0caf42d3f0fc"
      },
      "execution_count": null,
      "outputs": [
        {
          "output_type": "stream",
          "name": "stdout",
          "text": [
            "hello python!\n",
            "hello programming!\n"
          ]
        }
      ]
    },
    {
      "cell_type": "code",
      "source": [
        "print(10,20,30,40,50,60, sep = \"\\n\")#print in sep line"
      ],
      "metadata": {
        "colab": {
          "base_uri": "https://localhost:8080/"
        },
        "id": "4M4XKwnUICTJ",
        "outputId": "9e9dfec1-5587-4b37-b12e-203c8d865b0a"
      },
      "execution_count": null,
      "outputs": [
        {
          "output_type": "stream",
          "name": "stdout",
          "text": [
            "10\n",
            "20\n",
            "30\n",
            "40\n",
            "50\n",
            "60\n"
          ]
        }
      ]
    },
    {
      "cell_type": "code",
      "source": [
        "def f5(name,age,last_name):\n",
        "  print(f\"hello {name} you age is {age} and your last name is {last_name}\")\n",
        "f5(\"python\", 29 ,\"programming\")"
      ],
      "metadata": {
        "colab": {
          "base_uri": "https://localhost:8080/"
        },
        "id": "MKu8tuTUIWrz",
        "outputId": "3853851c-7768-4fd0-f808-208fa08293ed"
      },
      "execution_count": null,
      "outputs": [
        {
          "output_type": "stream",
          "name": "stdout",
          "text": [
            "hello python you age is 29 and your last name is programming\n"
          ]
        }
      ]
    },
    {
      "cell_type": "code",
      "source": [
        "def f1(**details):\n",
        "  print(details)\n",
        "f1(name = \"python\",last_name = \"programming\", age = 29)"
      ],
      "metadata": {
        "colab": {
          "base_uri": "https://localhost:8080/"
        },
        "id": "bBzzzNc-IxBO",
        "outputId": "573ff06f-8359-4ef5-adfa-61f04e18ee74"
      },
      "execution_count": null,
      "outputs": [
        {
          "output_type": "stream",
          "name": "stdout",
          "text": [
            "{'name': 'python', 'last_name': 'programming', 'age': 29}\n"
          ]
        }
      ]
    },
    {
      "cell_type": "code",
      "source": [
        "#when i am using * don't know how many arguments your passing.what"
      ],
      "metadata": {
        "id": "ImC_VxnqJHXu"
      },
      "execution_count": null,
      "outputs": []
    },
    {
      "cell_type": "code",
      "source": [
        "#Technical name for * and **\n",
        "\"\"\" *-->args-->arbitrary arguments-->tuple\n",
        "   **-->kwargs-->keyword arguments --> dictionary\n",
        "\"\"\""
      ],
      "metadata": {
        "id": "8WgWFkRwKPes"
      },
      "execution_count": null,
      "outputs": []
    },
    {
      "cell_type": "code",
      "source": [
        "#return() keyword\n",
        "def f1(x):\n",
        "  return x\n",
        "print(f1(10))"
      ],
      "metadata": {
        "colab": {
          "base_uri": "https://localhost:8080/"
        },
        "id": "lqsDu56WKw-n",
        "outputId": "b60b00ad-51df-49c5-a2dc-14241cee2311"
      },
      "execution_count": null,
      "outputs": [
        {
          "output_type": "stream",
          "name": "stdout",
          "text": [
            "10\n"
          ]
        }
      ]
    },
    {
      "cell_type": "code",
      "source": [
        "#create a sum function\n",
        "def sum(a,b):\n",
        "  return a + b\n",
        "print(sum(2,4))"
      ],
      "metadata": {
        "colab": {
          "base_uri": "https://localhost:8080/"
        },
        "id": "DimSmtHuLy-m",
        "outputId": "324fd541-0a29-4719-aeae-db4f200db214"
      },
      "execution_count": null,
      "outputs": [
        {
          "output_type": "stream",
          "name": "stdout",
          "text": [
            "6\n"
          ]
        }
      ]
    },
    {
      "cell_type": "code",
      "source": [
        "#end:- means separate the parameters"
      ],
      "metadata": {
        "id": "eN0Af94NCEUl"
      },
      "execution_count": null,
      "outputs": []
    },
    {
      "cell_type": "code",
      "source": [
        "def mul(a,b):\n",
        "  print(a*b)\n",
        "mul(2,4)"
      ],
      "metadata": {
        "colab": {
          "base_uri": "https://localhost:8080/"
        },
        "id": "EY7xL0ZPEfM-",
        "outputId": "6a902a81-ab6b-4650-c917-c08adcff5e23"
      },
      "execution_count": 1,
      "outputs": [
        {
          "output_type": "stream",
          "name": "stdout",
          "text": [
            "8\n"
          ]
        }
      ]
    },
    {
      "cell_type": "markdown",
      "source": [
        "#List Comprehension"
      ],
      "metadata": {
        "id": "hKxJYoLWFxoV"
      }
    },
    {
      "cell_type": "code",
      "source": [
        "#what is LC?\n",
        "#LC offers you smaller line of code that you can use to create new_list from existing list\n",
        "fruits = [\"apple\",\"banana\",\"mango\",\"strawberry\",\"blueberry\",\"grapes\"]\n",
        "#create\n",
        "new_list = []\n",
        "for i in fruits:\n",
        "  if \"a\" in i:\n",
        "    new_list.append(i)\n",
        "print(new_list)"
      ],
      "metadata": {
        "colab": {
          "base_uri": "https://localhost:8080/"
        },
        "id": "iByvuVxUF6cC",
        "outputId": "d5095a66-76dc-4c0c-ff23-cbad25a2e7e4"
      },
      "execution_count": 2,
      "outputs": [
        {
          "output_type": "stream",
          "name": "stdout",
          "text": [
            "['apple', 'banana', 'mango', 'strawberry', 'grapes']\n"
          ]
        }
      ]
    },
    {
      "cell_type": "code",
      "source": [
        "a = ['apple', 'banana', 'mango', 'strawberry', 'grapes',\"kiwi\"]\n",
        "new_list = [i for i in a if \"a\" in i]\n",
        "print(new_list)"
      ],
      "metadata": {
        "colab": {
          "base_uri": "https://localhost:8080/"
        },
        "id": "iSPtJv8lHSZS",
        "outputId": "db9692fc-9ad4-4a1f-c485-4e7cc7ebdf0e"
      },
      "execution_count": 4,
      "outputs": [
        {
          "output_type": "stream",
          "name": "stdout",
          "text": [
            "['apple', 'banana', 'mango', 'strawberry', 'grapes']\n"
          ]
        }
      ]
    },
    {
      "cell_type": "code",
      "source": [
        "#write a program to print multiples of 2 in the list?\n",
        "list = [1,2,3,4,5,6,7,8,9,10]\n",
        "new = [i*2 for i in list]\n",
        "print(new)"
      ],
      "metadata": {
        "colab": {
          "base_uri": "https://localhost:8080/"
        },
        "id": "WrmbAzASISZv",
        "outputId": "45c5a11e-800b-4134-94ba-2e5d9ba30e0f"
      },
      "execution_count": 5,
      "outputs": [
        {
          "output_type": "stream",
          "name": "stdout",
          "text": [
            "[2, 4, 6, 8, 10, 12, 14, 16, 18, 20]\n"
          ]
        }
      ]
    },
    {
      "cell_type": "code",
      "source": [
        "list = [1,2,3,4,5,6,7,8,9,10]\n",
        "new = [i % 2 == 0 for i in list ]#boolen output\n",
        "new1 = [i for i in list if i % 2 == 0]\n",
        "print(new)\n",
        "print(new1)"
      ],
      "metadata": {
        "colab": {
          "base_uri": "https://localhost:8080/"
        },
        "id": "iWGPzlGhIxcJ",
        "outputId": "2eedae2c-fcfb-4aab-9bba-2881982137a3"
      },
      "execution_count": 11,
      "outputs": [
        {
          "output_type": "stream",
          "name": "stdout",
          "text": [
            "[False, True, False, True, False, True, False, True, False, True]\n",
            "[2, 4, 6, 8, 10]\n"
          ]
        }
      ]
    },
    {
      "cell_type": "code",
      "source": [
        "a = ['apple', 'banana', 'mango', 'strawberry', 'grapes',\"kiwi\"]\n",
        "#print a new list where it doesn't have banana in it?\n",
        "new_fruit_list = [i for i in a if i != \"banana\"]\n",
        "print(new_fruit_list)\n",
        "#another method\n",
        "new = [i for i in a if \"banana\" not in i]\n",
        "print(new)"
      ],
      "metadata": {
        "colab": {
          "base_uri": "https://localhost:8080/"
        },
        "id": "yZ_zQRy0Jscn",
        "outputId": "e78726be-0beb-4567-a985-a352570c56f4"
      },
      "execution_count": 13,
      "outputs": [
        {
          "output_type": "stream",
          "name": "stdout",
          "text": [
            "['apple', 'mango', 'strawberry', 'grapes', 'kiwi']\n",
            "['apple', 'mango', 'strawberry', 'grapes', 'kiwi']\n"
          ]
        }
      ]
    },
    {
      "cell_type": "code",
      "source": [
        "list = [1,2,3,4,5,6,7,8,9,10]\n",
        "new = [i for i in list if i > 6]\n",
        "print(new)"
      ],
      "metadata": {
        "colab": {
          "base_uri": "https://localhost:8080/"
        },
        "id": "uRVC3bUQKZou",
        "outputId": "9f8fc129-ac97-46d4-ff24-4a44a868414d"
      },
      "execution_count": 14,
      "outputs": [
        {
          "output_type": "stream",
          "name": "stdout",
          "text": [
            "[7, 8, 9, 10]\n"
          ]
        }
      ]
    },
    {
      "cell_type": "code",
      "source": [
        "#using the string methods in LC\n",
        "#write a program to print the fruits in uppercase?\n",
        "a = ['apple', 'banana', 'mango', 'strawberry', 'grapes',\"kiwi\"]\n",
        "new = [i.upper() for i in a]\n",
        "print(new)"
      ],
      "metadata": {
        "colab": {
          "base_uri": "https://localhost:8080/"
        },
        "id": "GcPPkdgCKolc",
        "outputId": "81e4b3d9-047a-42e1-e0d3-e818d2b570d0"
      },
      "execution_count": 16,
      "outputs": [
        {
          "output_type": "stream",
          "name": "stdout",
          "text": [
            "['APPLE', 'BANANA', 'MANGO', 'STRAWBERRY', 'GRAPES', 'KIWI']\n"
          ]
        }
      ]
    },
    {
      "cell_type": "code",
      "source": [
        "#write a program to replace \"banana\" with \"orange\"\n",
        "a = ['apple', 'banana', 'mango', 'strawberry', 'grapes',\"kiwi\"]\n",
        "new = [i.replace(\"banana\",\"orange\") for i in a] #we can only replace only one item\n",
        "print(new)"
      ],
      "metadata": {
        "colab": {
          "base_uri": "https://localhost:8080/"
        },
        "id": "DlPUrM4ILIsK",
        "outputId": "fe2b3f07-6a7f-4857-e4e0-26f461278994"
      },
      "execution_count": 18,
      "outputs": [
        {
          "output_type": "stream",
          "name": "stdout",
          "text": [
            "['apple', 'orange', 'mango', 'strawberry', 'grapes', 'kiwi']\n"
          ]
        }
      ]
    },
    {
      "cell_type": "code",
      "source": [
        "#print the range of numbers upto 20 in new list?\n",
        "new = [i for i in range(20)]\n",
        "print(new)"
      ],
      "metadata": {
        "colab": {
          "base_uri": "https://localhost:8080/"
        },
        "id": "QB7u3y1sMZ0F",
        "outputId": "c9eba6ad-30bf-4810-bee2-5409f0ee4b14"
      },
      "execution_count": 22,
      "outputs": [
        {
          "output_type": "stream",
          "name": "stdout",
          "text": [
            "[0, 1, 2, 3, 4, 5, 6, 7, 8, 9, 10, 11, 12, 13, 14, 15, 16, 17, 18, 19]\n"
          ]
        }
      ]
    },
    {
      "cell_type": "markdown",
      "source": [
        "#Lambda,Filterfunction,map function"
      ],
      "metadata": {
        "id": "y5gs8D-DNBjV"
      }
    },
    {
      "cell_type": "code",
      "source": [
        "#what is lambda?\n",
        "#A lambda is a small anonymous function.\n",
        "#what is anonymous function?\n",
        "#A function without any name.\n",
        "#syntax for lambda\n",
        "#lambda arguments:expression\n",
        "#what is expression?\n",
        "#is some ststements/calculation/steps are using that values to give single values\n",
        "#lambda is an anonymous function where it can have many arguments and 1 expression\n",
        "#How to call this anonymous function?\n",
        "#by using the variables\n",
        "x = lambda a : a + 10 # parameter : expression\n",
        "print(x(5))"
      ],
      "metadata": {
        "colab": {
          "base_uri": "https://localhost:8080/"
        },
        "id": "giv8sSXwNTHz",
        "outputId": "6a30718c-31d3-4df7-ab0a-4d1f0d4a086a"
      },
      "execution_count": 23,
      "outputs": [
        {
          "output_type": "stream",
          "name": "stdout",
          "text": [
            "15\n"
          ]
        }
      ]
    },
    {
      "cell_type": "code",
      "source": [
        "#take many arguments\n",
        "x = lambda a,b,c : a+b+c #many variable : only one expression\n",
        "print(x(5,6,7))"
      ],
      "metadata": {
        "colab": {
          "base_uri": "https://localhost:8080/"
        },
        "id": "4O54CcN2SBI6",
        "outputId": "4de90d21-943f-4d18-f4ee-c23a882e4886"
      },
      "execution_count": 26,
      "outputs": [
        {
          "output_type": "stream",
          "name": "stdout",
          "text": [
            "18\n"
          ]
        }
      ]
    },
    {
      "cell_type": "code",
      "source": [
        "#create diff function\n",
        "#square\n",
        "#cube\n",
        "#fourth\n",
        "#sqtr -->0.5\n",
        "def square(x):\n",
        "  return x ** 2 , x ** 3 , x ** 4 , x ** 0.5\n",
        "square(3)"
      ],
      "metadata": {
        "colab": {
          "base_uri": "https://localhost:8080/"
        },
        "id": "bi8_FYaUTJ27",
        "outputId": "efd94fa8-44c0-4e0e-9e65-9a812a0190b2"
      },
      "execution_count": 42,
      "outputs": [
        {
          "output_type": "execute_result",
          "data": {
            "text/plain": [
              "(9, 27, 81, 1.7320508075688772)"
            ]
          },
          "metadata": {},
          "execution_count": 42
        }
      ]
    },
    {
      "cell_type": "code",
      "source": [
        "def power(n):\n",
        "  return lambda x : x ** n\n",
        "sq = power(2)\n",
        "cube = power(3)\n",
        "a = int(input(\"\"))\n",
        "b = int(input(\"\"))\n",
        "print(sq(a))\n",
        "print(cube(b))"
      ],
      "metadata": {
        "colab": {
          "base_uri": "https://localhost:8080/"
        },
        "id": "W_77B4NOXAB8",
        "outputId": "6fc9f377-af29-40af-8ed6-32bbd1b6f2a3"
      },
      "execution_count": 43,
      "outputs": [
        {
          "output_type": "stream",
          "name": "stdout",
          "text": [
            "2\n",
            "3\n",
            "4\n",
            "27\n"
          ]
        }
      ]
    },
    {
      "cell_type": "code",
      "source": [
        "#Types of variables\n",
        "#1)Global variable:- create a variable outside the function\n",
        "#local variable:- creating variable inside the function is known as LV\n",
        "def f1():\n",
        "  x = \"fantastic\"\n",
        "  return x\n",
        "print(f1())"
      ],
      "metadata": {
        "colab": {
          "base_uri": "https://localhost:8080/"
        },
        "id": "CW4Tt0gUYWro",
        "outputId": "410194db-ba21-4f9b-d96b-0e6a6a1221d2"
      },
      "execution_count": 46,
      "outputs": [
        {
          "output_type": "stream",
          "name": "stdout",
          "text": [
            "fantastic\n"
          ]
        }
      ]
    }
  ]
}